{
 "cells": [
  {
   "cell_type": "markdown",
   "metadata": {},
   "source": [
    "## Import libraries"
   ]
  },
  {
   "cell_type": "code",
   "execution_count": 6,
   "metadata": {},
   "outputs": [],
   "source": [
    "import math\n",
    "import pandas as pd\n",
    "import numpy as np\n",
    "import random\n",
    "import yfinance as yf\n",
    "import os\n",
    "\n",
    "import requests\n",
    "from bs4 import BeautifulSoup\n",
    "import re\n",
    "import pathlib"
   ]
  },
  {
   "cell_type": "markdown",
   "metadata": {},
   "source": [
    "## Time period"
   ]
  },
  {
   "cell_type": "code",
   "execution_count": 4,
   "metadata": {},
   "outputs": [],
   "source": [
    "start_date = '2020-01-01'\n",
    "end_date = '2023-12-31'"
   ]
  },
  {
   "cell_type": "markdown",
   "metadata": {},
   "source": [
    "## Functions for downloading"
   ]
  },
  {
   "cell_type": "code",
   "execution_count": 9,
   "metadata": {},
   "outputs": [],
   "source": [
    "def load_historical_data(tickers: list, start_date: str, end_date: str, name_folder: str) -> None:\n",
    "    if not os.path.exists('../' + name_folder):\n",
    "        os.makedirs('../' + name_folder)\n",
    "\n",
    "    for ticker in tickers:\n",
    "        print(f\"Download historical data for {ticker}\")\n",
    "        data = yf.download(ticker, start=start_date, end=end_date)\n",
    "        data = pd.DataFrame(data)\n",
    "        data.to_csv(f'../{name_folder}/{ticker}.csv')\n",
    "    print(\"Data loading is complete!\")\n",
    "\n",
    "def ticker_preprocessing(tickers: list, template_add: str) -> list:\n",
    "\n",
    "    for ticker_index in range(len(tickers)):\n",
    "        tickers[ticker_index] = tickers[ticker_index] + template_add\n",
    "\n",
    "    return tickers\n",
    "\n",
    "def get_stock_tickers(url: str, template_parsing: str) -> list:\n",
    "    headers = {\n",
    "        \"User-Agent\": \"Mozilla/5.0 (Windows NT 10.0; Win64; x64) AppleWebKit/537.36 (KHTML, like Gecko) Chrome/90.0.4430.212 Safari/537.36\"\n",
    "    }\n",
    "\n",
    "    response = requests.get(url, headers=headers)\n",
    "\n",
    "    # response.raise_for_status()  \n",
    "    soup = BeautifulSoup(response.text, 'html.parser')\n",
    "    # print(soup)\n",
    "\n",
    "    lines = []\n",
    "    for link in soup.find_all('tr', class_='row-RdUXZpkv listRow'):\n",
    "        lines.append(link)\n",
    "    \n",
    "    tickers = []\n",
    "    for line in lines:\n",
    "        html_string=str(line)\n",
    "        # match = re.search(r'data-rowkey=\"MOEX:(.*?)\"', html_string)\n",
    "        match = re.search(r'data-rowkey=\"'+ template_parsing + r':(.*?)\"', html_string)\n",
    "        if match:\n",
    "            tickers.append(match.group(1))\n",
    "    return tickers\n",
    "\n",
    "def get_number_stocks(folder_path: str) -> None:\n",
    "    file_count = len([f for f in os.listdir(folder_path) if os.path.isfile(os.path.join(folder_path, f))])\n",
    "    print(f'Number of stocks in a folder: {file_count}')"
   ]
  },
  {
   "cell_type": "markdown",
   "metadata": {},
   "source": [
    "## Downloading stock market data Brazil"
   ]
  },
  {
   "cell_type": "code",
   "execution_count": null,
   "metadata": {},
   "outputs": [],
   "source": [
    "tickers = get_stock_tickers(url = \"https://ru.tradingview.com/markets/stocks-brazil/market-movers-large-cap/\", \n",
    "                            template_parsing = 'BMFBOVESPA')\n",
    "\n",
    "tickers = ticker_preprocessing(tickers = tickers,\n",
    "                               template_add = '.SA')\n",
    "\n",
    "load_historical_data(tickers = tickers,\n",
    "                    start_date = start_date,\n",
    "                    end_date = end_date,\n",
    "                    name_folder = 'Brazil')\n",
    "        \n",
    "get_number_stocks(folder_path = '../Brazil')"
   ]
  },
  {
   "cell_type": "markdown",
   "metadata": {},
   "source": [
    "## Downloading stock market data Russia"
   ]
  },
  {
   "cell_type": "code",
   "execution_count": 41,
   "metadata": {},
   "outputs": [],
   "source": [
    "tickers = get_stock_tickers(url = \"https://ru.tradingview.com/markets/stocks-russia/market-movers-large-cap/\", \n",
    "                            template_parsing = 'MOEX')\n",
    "\n",
    "tickers = ticker_preprocessing(tickers = tickers,\n",
    "                               template_add = '.ME')\n",
    "load_historical_data(tickers = tickers,\n",
    "                    start_date = start_date_,\n",
    "                    end_date = end_date_,\n",
    "                    name_folder = 'Russia')\n",
    "        \n",
    "get_number_stocks(folder_path = '../Russia')"
   ]
  },
  {
   "cell_type": "markdown",
   "metadata": {},
   "source": [
    "## Downloading stock market data India"
   ]
  },
  {
   "cell_type": "code",
   "execution_count": null,
   "metadata": {},
   "outputs": [],
   "source": [
    "\n",
    "tickers = get_stock_tickers(url = \"https://ru.tradingview.com/markets/stocks-india/market-movers-large-cap/\", \n",
    "                            template_parsing = 'NSE')\n",
    "\n",
    "tickers = ticker_preprocessing(tickers = tickers,\n",
    "                               template_add = '.NS')\n",
    "\n",
    "load_historical_data(tickers = tickers,\n",
    "                    start_date = start_date,\n",
    "                    end_date = end_date,\n",
    "                    name_folder = 'India')\n",
    "        \n",
    "get_number_stocks(folder_path = '../India')"
   ]
  },
  {
   "cell_type": "markdown",
   "metadata": {},
   "source": [
    "## Downloading stock market data China"
   ]
  },
  {
   "cell_type": "code",
   "execution_count": null,
   "metadata": {},
   "outputs": [],
   "source": [
    "tickers = get_stock_tickers(url = \"https://ru.tradingview.com/markets/stocks-china/market-movers-large-cap/\", \n",
    "                            template_parsing = 'SZSE')\n",
    "\n",
    "tickers = ticker_preprocessing(tickers = tickers,\n",
    "                               template_add = '.SZ')\n",
    "\n",
    "load_historical_data(tickers = tickers,\n",
    "                    start_date = start_date,\n",
    "                    end_date = end_date,\n",
    "                    name_folder = 'China')\n",
    "        \n",
    "get_number_stocks(folder_path = '../China')"
   ]
  },
  {
   "cell_type": "markdown",
   "metadata": {},
   "source": [
    "## Downloading stock market data South Africa"
   ]
  },
  {
   "cell_type": "code",
   "execution_count": null,
   "metadata": {},
   "outputs": [],
   "source": [
    "tickers = get_stock_tickers(url = \"https://ru.tradingview.com/markets/stocks-south-africa/market-movers-large-cap/\", \n",
    "                            template_parsing = 'JSE')\n",
    "                    \n",
    "tickers = ticker_preprocessing(tickers = tickers,\n",
    "                               template_add = '.JO')                            \n",
    "\n",
    "load_historical_data(tickers = tickers,\n",
    "                    start_date = start_date,\n",
    "                    end_date = end_date,\n",
    "                    name_folder = 'South Africa')\n",
    "        \n",
    "get_number_stocks(folder_path = '../South Africa')"
   ]
  },
  {
   "cell_type": "markdown",
   "metadata": {},
   "source": [
    "## Downloading stock market data NASDAQ"
   ]
  },
  {
   "cell_type": "code",
   "execution_count": null,
   "metadata": {},
   "outputs": [],
   "source": [
    "tickers = get_stock_tickers(url = \"https://ru.tradingview.com/symbols/NASDAQ-NDX/components/\", \n",
    "                            template_parsing = 'NASDAQ')\n",
    "                    \n",
    "                        \n",
    "\n",
    "load_historical_data(tickers = tickers,\n",
    "                    start_date = start_date,\n",
    "                    end_date = end_date,\n",
    "                    name_folder = 'NASDAQ')\n",
    "        \n",
    "get_number_stocks(folder_path = '../NASDAQ')"
   ]
  },
  {
   "cell_type": "markdown",
   "metadata": {},
   "source": [
    "## Convert Russia data stocks\n"
   ]
  },
  {
   "cell_type": "code",
   "execution_count": 7,
   "metadata": {},
   "outputs": [],
   "source": [
    "def rename_columns_in_files(rename_dict: dict, path: pathlib.Path) -> None:\n",
    "    \"\"\"\n",
    "    Iterates over files in the directory and renames columns based on the provided dictionary.\n",
    "    \n",
    "    Parameters:\n",
    "    ----------\n",
    "    - rename_dict (dict): A dictionary where the keys are current column names and \n",
    "                          the values are the new column names.\n",
    "    - path (Path): Path object representing the directory containing the files.\n",
    "    \"\"\"\n",
    "    for file in path.iterdir():\n",
    "        if file.is_file():\n",
    "            try:\n",
    "                data = pd.read_csv(file)\n",
    "                data.rename(columns=rename_dict, inplace=True)\n",
    "                data.to_csv(file, index=False)\n",
    "            except Exception as e:\n",
    "                print(f\"Error processing file {file.name}: {e}\")\n",
    "                continue\n"
   ]
  },
  {
   "cell_type": "code",
   "execution_count": 56,
   "metadata": {},
   "outputs": [],
   "source": [
    "def clean_numeric_string(num_str: str) -> float:\n",
    "    \"\"\"\n",
    "    Cleans a numeric string and converts it to a float.\n",
    "    \n",
    "    Parameters:\n",
    "    ----------\n",
    "    num_str : str\n",
    "        The numeric string to clean and convert.\n",
    "    \n",
    "    Returns:\n",
    "    -------\n",
    "    float\n",
    "        The cleaned float value.\n",
    "    \"\"\"\n",
    "    num_str = str(num_str)\n",
    "    num_str = num_str.replace(' ', '')\n",
    "    num_str = num_str.replace(',', '.')\n",
    "    num_str = re.sub(r'(?<=\\d)\\.(?=\\d{3})', '', num_str)\n",
    "\n",
    "    return float(num_str)\n",
    "\n",
    "def rename_and_reformat_files(path: pathlib.Path) -> None:\n",
    "    \"\"\"\n",
    "    Iterates over files in the directory, renames columns, and reformats the data.\n",
    "    \n",
    "    Parameters:\n",
    "    ----------\n",
    "    path : pathlib.Path\n",
    "        The path to the directory containing the stock data files.\n",
    "    \"\"\"\n",
    "    for file_path in path.iterdir():  # Используем iterdir для обхода по файлам\n",
    "        if file_path.is_file():  # Проверяем, является ли это файлом\n",
    "            try:\n",
    "                data = pd.read_csv(file_path)\n",
    "                data['Close'] = data['Close'].apply(clean_numeric_string)\n",
    "                data['Date'] = pd.to_datetime(data['Date'], format=\"%d.%m.%Y\").dt.strftime('%Y-%m-%d')\n",
    "\n",
    "                data.to_csv(file_path, index=False)  # Используем file_path для сохранения\n",
    "\n",
    "            except Exception as e:\n",
    "                print(f\"Error processing file {file_path.name}: {e}\")\n",
    "                continue"
   ]
  },
  {
   "cell_type": "code",
   "execution_count": null,
   "metadata": {},
   "outputs": [],
   "source": [
    "rename_dict = {\n",
    "               'Дата': 'Date',\n",
    "               'Цена': 'Close', \n",
    "               'Откр.': 'Open', \n",
    "               'Макс.': 'High',\n",
    "               'Мин.': 'Low',\n",
    "               'Объём': 'Volume',\n",
    "               'Изм. %':'Adj Close'\n",
    "}\n",
    "\n",
    "rename_columns_in_files(rename_dict, path = pathlib.Path('../data/DataStocks/Russia'))\n",
    "rename_and_reformat_files(path = pathlib.Path('../data/DataStocks/Russia'))"
   ]
  },
  {
   "cell_type": "code",
   "execution_count": null,
   "metadata": {},
   "outputs": [],
   "source": []
  }
 ],
 "metadata": {
  "kernelspec": {
   "display_name": "venv",
   "language": "python",
   "name": "python3"
  },
  "language_info": {
   "codemirror_mode": {
    "name": "ipython",
    "version": 3
   },
   "file_extension": ".py",
   "mimetype": "text/x-python",
   "name": "python",
   "nbconvert_exporter": "python",
   "pygments_lexer": "ipython3",
   "version": "3.11.4"
  }
 },
 "nbformat": 4,
 "nbformat_minor": 2
}
