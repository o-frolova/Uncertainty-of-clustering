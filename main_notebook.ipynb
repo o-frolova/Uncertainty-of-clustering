{
 "cells": [
  {
   "cell_type": "code",
   "execution_count": 1,
   "metadata": {},
   "outputs": [],
   "source": [
    "import itertools\n",
    "import random\n",
    "\n",
    "import numpy as np\n",
    "import pandas as pd\n",
    "from sklearn.metrics.cluster import adjusted_rand_score\n",
    "from tqdm import tqdm\n",
    "import pathlib\n",
    "\n",
    "from src.artificial_cluster_structure import ArtificialСlusterStructure\n",
    "from src.correlation_block_model import CorrelationBlockModel\n",
    "from src.params import PARAMS, PARAMS_NAME\n",
    "from src.Stocks import Stocks\n",
    "from src.StocksReader import ReaderStocksData"
   ]
  },
  {
   "cell_type": "markdown",
   "metadata": {},
   "source": [
    "# Download data"
   ]
  },
  {
   "cell_type": "code",
   "execution_count": 2,
   "metadata": {},
   "outputs": [
    {
     "name": "stderr",
     "output_type": "stream",
     "text": [
      "ERROR:root:Error processing file data/DataStocks/SP100/.DS_Store: 'utf-8' codec can't decode byte 0x86 in position 27: invalid start byte\n"
     ]
    }
   ],
   "source": [
    "start_date = '2016-01-01'\n",
    "end_date =   '2018-12-31'\n",
    "path_to_data = './data/DataStocks/SP100'\n",
    "path_to_save = './data/results/SP100_1618_true/'\n",
    "name_common_file = 'SP100_60_stocks_all_results_test.csv'\n",
    "name_specific_files = 'SP100_1618_60_stocks_true'\n",
    "number_stocks = 60\n",
    "\n",
    "ReaderData = ReaderStocksData(path_to_data)\n",
    "DATA_OF_STOCKS, TICKERS = ReaderData.load_data(str(start_date), str(end_date))"
   ]
  },
  {
   "cell_type": "code",
   "execution_count": 3,
   "metadata": {},
   "outputs": [],
   "source": [
    "true_tickers=['GILD',\n",
    " 'META',\n",
    " 'LIN',\n",
    " 'V',\n",
    " 'AMGN',\n",
    " 'TSLA',\n",
    " 'ORCL',\n",
    " 'AAPL',\n",
    " 'MA',\n",
    " 'GOOG',\n",
    " 'GS',\n",
    " 'NKE',\n",
    " 'DIS',\n",
    " 'UPS',\n",
    " 'CHTR',\n",
    " 'GD',\n",
    " 'CRM',\n",
    " 'AMT',\n",
    " 'MET',\n",
    " 'COF',\n",
    " 'SPG',\n",
    " 'LMT',\n",
    " 'USB',\n",
    " 'ACN',\n",
    " 'COP',\n",
    " 'AIG',\n",
    " 'QCOM',\n",
    " 'BK',\n",
    " 'CAT',\n",
    " 'PM',\n",
    " 'INTC',\n",
    " 'MRK',\n",
    " 'AXP',\n",
    " 'JPM',\n",
    " 'DUK',\n",
    " 'BA',\n",
    " 'CMCSA',\n",
    " 'BLK',\n",
    " 'AVGO',\n",
    " 'CVS',\n",
    " 'EMR',\n",
    " 'XOM',\n",
    " 'ABBV',\n",
    " 'GOOGL',\n",
    " 'TMUS',\n",
    " 'AMD',\n",
    " 'TXN',\n",
    " 'CSCO',\n",
    " 'NEE',\n",
    " 'PYPL',\n",
    " 'MO',\n",
    " 'GE',\n",
    " 'BMY',\n",
    " 'NFLX',\n",
    " 'DHR',\n",
    " 'SBUX',\n",
    " 'F',\n",
    " 'VZ',\n",
    " 'LOW',\n",
    " 'MS']"
   ]
  },
  {
   "cell_type": "code",
   "execution_count": 4,
   "metadata": {},
   "outputs": [],
   "source": [
    "res = []\n",
    "for stock in DATA_OF_STOCKS:\n",
    "    if stock.ticker in true_tickers:\n",
    "        res.append(stock)\n"
   ]
  },
  {
   "cell_type": "code",
   "execution_count": 5,
   "metadata": {},
   "outputs": [],
   "source": [
    "DATA_OF_STOCKS = res\n",
    "\n",
    "TICKERS = true_tickers"
   ]
  },
  {
   "cell_type": "code",
   "execution_count": 6,
   "metadata": {},
   "outputs": [],
   "source": [
    "# selected_indices = random.sample(range(99), number_stocks)\n",
    "\n",
    "# DATA_OF_STOCKS = [DATA_OF_STOCKS[i] for i in selected_indices]\n",
    "# TICKERS = [TICKERS[i] for i in selected_indices]"
   ]
  },
  {
   "cell_type": "code",
   "execution_count": 7,
   "metadata": {},
   "outputs": [
    {
     "data": {
      "text/plain": [
       "60"
      ]
     },
     "execution_count": 7,
     "metadata": {},
     "output_type": "execute_result"
    }
   ],
   "source": [
    "len(TICKERS)"
   ]
  },
  {
   "cell_type": "code",
   "execution_count": 8,
   "metadata": {},
   "outputs": [
    {
     "data": {
      "text/plain": [
       "250"
      ]
     },
     "execution_count": 8,
     "metadata": {},
     "output_type": "execute_result"
    }
   ],
   "source": [
    "len(DATA_OF_STOCKS[0].returns)"
   ]
  },
  {
   "cell_type": "markdown",
   "metadata": {},
   "source": [
    "# Calculate the mean vector and covariance matrix"
   ]
  },
  {
   "cell_type": "code",
   "execution_count": 9,
   "metadata": {},
   "outputs": [],
   "source": [
    "def get_covariance_matrix(Stocks: Stocks, tickers: np.array) -> pd.DataFrame:\n",
    "    \"\"\"\n",
    "    Calculates the covariance matrix for the given list of stock objects.\n",
    "    \n",
    "    Args:\n",
    "    - stocks (list): List of stock objects, each having a 'returns' attribute.\n",
    "    - tickers (np.array): Array of stock tickers corresponding to the stocks.\n",
    "    \n",
    "    Returns:\n",
    "    - pd.DataFrame: Covariance matrix.\n",
    "    \"\"\"\n",
    "    covariance_matrix = []\n",
    "    for stock_1 in Stocks:\n",
    "        covv = []\n",
    "        for stock_2 in Stocks:\n",
    "            covv.append(np.cov(stock_1.returns, stock_2.returns)[0, 1])\n",
    "        covariance_matrix.append(covv)\n",
    "\n",
    "    return pd.DataFrame(covariance_matrix, columns = tickers, index = tickers)\n",
    "\n",
    "\n",
    "def get_mean_vector(Stocks: Stocks) -> np.array:\n",
    "    \"\"\"\n",
    "    Calculates the mean returns for the given list of stock objects.\n",
    "    \n",
    "    Args:\n",
    "    - stocks (list): List of stock objects, each having a 'returns' attribute.\n",
    "    \n",
    "    Returns:\n",
    "    - np.array: Array of mean returns.\n",
    "    \"\"\"\n",
    "    mean_vector = []\n",
    "    for stock in Stocks:\n",
    "        mean_vector.append(stock.returns.mean())\n",
    "    return np.array(mean_vector)"
   ]
  },
  {
   "cell_type": "code",
   "execution_count": 10,
   "metadata": {},
   "outputs": [],
   "source": [
    "true_cov_matrix = get_covariance_matrix(DATA_OF_STOCKS, TICKERS)\n",
    "true_mean_vec = get_mean_vector(DATA_OF_STOCKS)"
   ]
  },
  {
   "cell_type": "code",
   "execution_count": 11,
   "metadata": {},
   "outputs": [
    {
     "name": "stdout",
     "output_type": "stream",
     "text": [
      "Total number of combinations: 54\n"
     ]
    }
   ],
   "source": [
    "# Создание всех возможных комбинаций параметров\n",
    "keys, values = zip(*PARAMS.items())\n",
    "combinations = [dict(zip(keys, combination)) for combination in itertools.product(*values)]\n",
    "\n",
    "keys_name, values_name = zip(*PARAMS_NAME.items())\n",
    "combinations_name = [dict(zip(keys_name, combination)) for combination in itertools.product(*values_name)]\n",
    "print(f'Total number of combinations: {len(combinations)}')"
   ]
  },
  {
   "cell_type": "code",
   "execution_count": 12,
   "metadata": {},
   "outputs": [
    {
     "data": {
      "text/plain": [
       "[{'clustering_method': <bound method ClusteringMethods.normalized_spectral_clustering of <src.clustering_methods.ClusteringMethods object at 0x155af3190>>,\n",
       "  'correlation_network': <bound method CorrelationMeasurement.Pearson of <src.correlation.CorrelationMeasurement object at 0x155af2f10>>,\n",
       "  'multivariate_distribution': <bound method MultivariateDistribution.normal_distribution of <src.multivariate_distribution.MultivariateDistribution object at 0x155af2ad0>>,\n",
       "  'number_clusters': 2,\n",
       "  'sample_size_of_observations': 40},\n",
       " {'clustering_method': <bound method ClusteringMethods.normalized_spectral_clustering of <src.clustering_methods.ClusteringMethods object at 0x155af3190>>,\n",
       "  'correlation_network': <bound method CorrelationMeasurement.Pearson of <src.correlation.CorrelationMeasurement object at 0x155af2f10>>,\n",
       "  'multivariate_distribution': <bound method MultivariateDistribution.normal_distribution of <src.multivariate_distribution.MultivariateDistribution object at 0x155af2ad0>>,\n",
       "  'number_clusters': 2,\n",
       "  'sample_size_of_observations': 100},\n",
       " {'clustering_method': <bound method ClusteringMethods.normalized_spectral_clustering of <src.clustering_methods.ClusteringMethods object at 0x155af3190>>,\n",
       "  'correlation_network': <bound method CorrelationMeasurement.Pearson of <src.correlation.CorrelationMeasurement object at 0x155af2f10>>,\n",
       "  'multivariate_distribution': <bound method MultivariateDistribution.normal_distribution of <src.multivariate_distribution.MultivariateDistribution object at 0x155af2ad0>>,\n",
       "  'number_clusters': 2,\n",
       "  'sample_size_of_observations': 500},\n",
       " {'clustering_method': <bound method ClusteringMethods.normalized_spectral_clustering of <src.clustering_methods.ClusteringMethods object at 0x155af3190>>,\n",
       "  'correlation_network': <bound method CorrelationMeasurement.Pearson of <src.correlation.CorrelationMeasurement object at 0x155af2f10>>,\n",
       "  'multivariate_distribution': <bound method MultivariateDistribution.normal_distribution of <src.multivariate_distribution.MultivariateDistribution object at 0x155af2ad0>>,\n",
       "  'number_clusters': 4,\n",
       "  'sample_size_of_observations': 40},\n",
       " {'clustering_method': <bound method ClusteringMethods.normalized_spectral_clustering of <src.clustering_methods.ClusteringMethods object at 0x155af3190>>,\n",
       "  'correlation_network': <bound method CorrelationMeasurement.Pearson of <src.correlation.CorrelationMeasurement object at 0x155af2f10>>,\n",
       "  'multivariate_distribution': <bound method MultivariateDistribution.normal_distribution of <src.multivariate_distribution.MultivariateDistribution object at 0x155af2ad0>>,\n",
       "  'number_clusters': 4,\n",
       "  'sample_size_of_observations': 100},\n",
       " {'clustering_method': <bound method ClusteringMethods.normalized_spectral_clustering of <src.clustering_methods.ClusteringMethods object at 0x155af3190>>,\n",
       "  'correlation_network': <bound method CorrelationMeasurement.Pearson of <src.correlation.CorrelationMeasurement object at 0x155af2f10>>,\n",
       "  'multivariate_distribution': <bound method MultivariateDistribution.normal_distribution of <src.multivariate_distribution.MultivariateDistribution object at 0x155af2ad0>>,\n",
       "  'number_clusters': 4,\n",
       "  'sample_size_of_observations': 500},\n",
       " {'clustering_method': <bound method ClusteringMethods.normalized_spectral_clustering of <src.clustering_methods.ClusteringMethods object at 0x155af3190>>,\n",
       "  'correlation_network': <bound method CorrelationMeasurement.Pearson of <src.correlation.CorrelationMeasurement object at 0x155af2f10>>,\n",
       "  'multivariate_distribution': <bound method MultivariateDistribution.normal_distribution of <src.multivariate_distribution.MultivariateDistribution object at 0x155af2ad0>>,\n",
       "  'number_clusters': 6,\n",
       "  'sample_size_of_observations': 40},\n",
       " {'clustering_method': <bound method ClusteringMethods.normalized_spectral_clustering of <src.clustering_methods.ClusteringMethods object at 0x155af3190>>,\n",
       "  'correlation_network': <bound method CorrelationMeasurement.Pearson of <src.correlation.CorrelationMeasurement object at 0x155af2f10>>,\n",
       "  'multivariate_distribution': <bound method MultivariateDistribution.normal_distribution of <src.multivariate_distribution.MultivariateDistribution object at 0x155af2ad0>>,\n",
       "  'number_clusters': 6,\n",
       "  'sample_size_of_observations': 100},\n",
       " {'clustering_method': <bound method ClusteringMethods.normalized_spectral_clustering of <src.clustering_methods.ClusteringMethods object at 0x155af3190>>,\n",
       "  'correlation_network': <bound method CorrelationMeasurement.Pearson of <src.correlation.CorrelationMeasurement object at 0x155af2f10>>,\n",
       "  'multivariate_distribution': <bound method MultivariateDistribution.normal_distribution of <src.multivariate_distribution.MultivariateDistribution object at 0x155af2ad0>>,\n",
       "  'number_clusters': 6,\n",
       "  'sample_size_of_observations': 500},\n",
       " {'clustering_method': <bound method ClusteringMethods.normalized_spectral_clustering of <src.clustering_methods.ClusteringMethods object at 0x155af3190>>,\n",
       "  'correlation_network': <bound method CorrelationMeasurement.Pearson of <src.correlation.CorrelationMeasurement object at 0x155af2f10>>,\n",
       "  'multivariate_distribution': <bound method MultivariateDistribution.student_distribution of <src.multivariate_distribution.MultivariateDistribution object at 0x155af2ad0>>,\n",
       "  'number_clusters': 2,\n",
       "  'sample_size_of_observations': 40},\n",
       " {'clustering_method': <bound method ClusteringMethods.normalized_spectral_clustering of <src.clustering_methods.ClusteringMethods object at 0x155af3190>>,\n",
       "  'correlation_network': <bound method CorrelationMeasurement.Pearson of <src.correlation.CorrelationMeasurement object at 0x155af2f10>>,\n",
       "  'multivariate_distribution': <bound method MultivariateDistribution.student_distribution of <src.multivariate_distribution.MultivariateDistribution object at 0x155af2ad0>>,\n",
       "  'number_clusters': 2,\n",
       "  'sample_size_of_observations': 100},\n",
       " {'clustering_method': <bound method ClusteringMethods.normalized_spectral_clustering of <src.clustering_methods.ClusteringMethods object at 0x155af3190>>,\n",
       "  'correlation_network': <bound method CorrelationMeasurement.Pearson of <src.correlation.CorrelationMeasurement object at 0x155af2f10>>,\n",
       "  'multivariate_distribution': <bound method MultivariateDistribution.student_distribution of <src.multivariate_distribution.MultivariateDistribution object at 0x155af2ad0>>,\n",
       "  'number_clusters': 2,\n",
       "  'sample_size_of_observations': 500},\n",
       " {'clustering_method': <bound method ClusteringMethods.normalized_spectral_clustering of <src.clustering_methods.ClusteringMethods object at 0x155af3190>>,\n",
       "  'correlation_network': <bound method CorrelationMeasurement.Pearson of <src.correlation.CorrelationMeasurement object at 0x155af2f10>>,\n",
       "  'multivariate_distribution': <bound method MultivariateDistribution.student_distribution of <src.multivariate_distribution.MultivariateDistribution object at 0x155af2ad0>>,\n",
       "  'number_clusters': 4,\n",
       "  'sample_size_of_observations': 40},\n",
       " {'clustering_method': <bound method ClusteringMethods.normalized_spectral_clustering of <src.clustering_methods.ClusteringMethods object at 0x155af3190>>,\n",
       "  'correlation_network': <bound method CorrelationMeasurement.Pearson of <src.correlation.CorrelationMeasurement object at 0x155af2f10>>,\n",
       "  'multivariate_distribution': <bound method MultivariateDistribution.student_distribution of <src.multivariate_distribution.MultivariateDistribution object at 0x155af2ad0>>,\n",
       "  'number_clusters': 4,\n",
       "  'sample_size_of_observations': 100},\n",
       " {'clustering_method': <bound method ClusteringMethods.normalized_spectral_clustering of <src.clustering_methods.ClusteringMethods object at 0x155af3190>>,\n",
       "  'correlation_network': <bound method CorrelationMeasurement.Pearson of <src.correlation.CorrelationMeasurement object at 0x155af2f10>>,\n",
       "  'multivariate_distribution': <bound method MultivariateDistribution.student_distribution of <src.multivariate_distribution.MultivariateDistribution object at 0x155af2ad0>>,\n",
       "  'number_clusters': 4,\n",
       "  'sample_size_of_observations': 500},\n",
       " {'clustering_method': <bound method ClusteringMethods.normalized_spectral_clustering of <src.clustering_methods.ClusteringMethods object at 0x155af3190>>,\n",
       "  'correlation_network': <bound method CorrelationMeasurement.Pearson of <src.correlation.CorrelationMeasurement object at 0x155af2f10>>,\n",
       "  'multivariate_distribution': <bound method MultivariateDistribution.student_distribution of <src.multivariate_distribution.MultivariateDistribution object at 0x155af2ad0>>,\n",
       "  'number_clusters': 6,\n",
       "  'sample_size_of_observations': 40},\n",
       " {'clustering_method': <bound method ClusteringMethods.normalized_spectral_clustering of <src.clustering_methods.ClusteringMethods object at 0x155af3190>>,\n",
       "  'correlation_network': <bound method CorrelationMeasurement.Pearson of <src.correlation.CorrelationMeasurement object at 0x155af2f10>>,\n",
       "  'multivariate_distribution': <bound method MultivariateDistribution.student_distribution of <src.multivariate_distribution.MultivariateDistribution object at 0x155af2ad0>>,\n",
       "  'number_clusters': 6,\n",
       "  'sample_size_of_observations': 100},\n",
       " {'clustering_method': <bound method ClusteringMethods.normalized_spectral_clustering of <src.clustering_methods.ClusteringMethods object at 0x155af3190>>,\n",
       "  'correlation_network': <bound method CorrelationMeasurement.Pearson of <src.correlation.CorrelationMeasurement object at 0x155af2f10>>,\n",
       "  'multivariate_distribution': <bound method MultivariateDistribution.student_distribution of <src.multivariate_distribution.MultivariateDistribution object at 0x155af2ad0>>,\n",
       "  'number_clusters': 6,\n",
       "  'sample_size_of_observations': 500},\n",
       " {'clustering_method': <bound method ClusteringMethods.normalized_spectral_clustering of <src.clustering_methods.ClusteringMethods object at 0x155af3190>>,\n",
       "  'correlation_network': <bound method CorrelationMeasurement.Kendall of <src.correlation.CorrelationMeasurement object at 0x155af2f10>>,\n",
       "  'multivariate_distribution': <bound method MultivariateDistribution.normal_distribution of <src.multivariate_distribution.MultivariateDistribution object at 0x155af2ad0>>,\n",
       "  'number_clusters': 2,\n",
       "  'sample_size_of_observations': 40},\n",
       " {'clustering_method': <bound method ClusteringMethods.normalized_spectral_clustering of <src.clustering_methods.ClusteringMethods object at 0x155af3190>>,\n",
       "  'correlation_network': <bound method CorrelationMeasurement.Kendall of <src.correlation.CorrelationMeasurement object at 0x155af2f10>>,\n",
       "  'multivariate_distribution': <bound method MultivariateDistribution.normal_distribution of <src.multivariate_distribution.MultivariateDistribution object at 0x155af2ad0>>,\n",
       "  'number_clusters': 2,\n",
       "  'sample_size_of_observations': 100},\n",
       " {'clustering_method': <bound method ClusteringMethods.normalized_spectral_clustering of <src.clustering_methods.ClusteringMethods object at 0x155af3190>>,\n",
       "  'correlation_network': <bound method CorrelationMeasurement.Kendall of <src.correlation.CorrelationMeasurement object at 0x155af2f10>>,\n",
       "  'multivariate_distribution': <bound method MultivariateDistribution.normal_distribution of <src.multivariate_distribution.MultivariateDistribution object at 0x155af2ad0>>,\n",
       "  'number_clusters': 2,\n",
       "  'sample_size_of_observations': 500},\n",
       " {'clustering_method': <bound method ClusteringMethods.normalized_spectral_clustering of <src.clustering_methods.ClusteringMethods object at 0x155af3190>>,\n",
       "  'correlation_network': <bound method CorrelationMeasurement.Kendall of <src.correlation.CorrelationMeasurement object at 0x155af2f10>>,\n",
       "  'multivariate_distribution': <bound method MultivariateDistribution.normal_distribution of <src.multivariate_distribution.MultivariateDistribution object at 0x155af2ad0>>,\n",
       "  'number_clusters': 4,\n",
       "  'sample_size_of_observations': 40},\n",
       " {'clustering_method': <bound method ClusteringMethods.normalized_spectral_clustering of <src.clustering_methods.ClusteringMethods object at 0x155af3190>>,\n",
       "  'correlation_network': <bound method CorrelationMeasurement.Kendall of <src.correlation.CorrelationMeasurement object at 0x155af2f10>>,\n",
       "  'multivariate_distribution': <bound method MultivariateDistribution.normal_distribution of <src.multivariate_distribution.MultivariateDistribution object at 0x155af2ad0>>,\n",
       "  'number_clusters': 4,\n",
       "  'sample_size_of_observations': 100},\n",
       " {'clustering_method': <bound method ClusteringMethods.normalized_spectral_clustering of <src.clustering_methods.ClusteringMethods object at 0x155af3190>>,\n",
       "  'correlation_network': <bound method CorrelationMeasurement.Kendall of <src.correlation.CorrelationMeasurement object at 0x155af2f10>>,\n",
       "  'multivariate_distribution': <bound method MultivariateDistribution.normal_distribution of <src.multivariate_distribution.MultivariateDistribution object at 0x155af2ad0>>,\n",
       "  'number_clusters': 4,\n",
       "  'sample_size_of_observations': 500},\n",
       " {'clustering_method': <bound method ClusteringMethods.normalized_spectral_clustering of <src.clustering_methods.ClusteringMethods object at 0x155af3190>>,\n",
       "  'correlation_network': <bound method CorrelationMeasurement.Kendall of <src.correlation.CorrelationMeasurement object at 0x155af2f10>>,\n",
       "  'multivariate_distribution': <bound method MultivariateDistribution.normal_distribution of <src.multivariate_distribution.MultivariateDistribution object at 0x155af2ad0>>,\n",
       "  'number_clusters': 6,\n",
       "  'sample_size_of_observations': 40},\n",
       " {'clustering_method': <bound method ClusteringMethods.normalized_spectral_clustering of <src.clustering_methods.ClusteringMethods object at 0x155af3190>>,\n",
       "  'correlation_network': <bound method CorrelationMeasurement.Kendall of <src.correlation.CorrelationMeasurement object at 0x155af2f10>>,\n",
       "  'multivariate_distribution': <bound method MultivariateDistribution.normal_distribution of <src.multivariate_distribution.MultivariateDistribution object at 0x155af2ad0>>,\n",
       "  'number_clusters': 6,\n",
       "  'sample_size_of_observations': 100},\n",
       " {'clustering_method': <bound method ClusteringMethods.normalized_spectral_clustering of <src.clustering_methods.ClusteringMethods object at 0x155af3190>>,\n",
       "  'correlation_network': <bound method CorrelationMeasurement.Kendall of <src.correlation.CorrelationMeasurement object at 0x155af2f10>>,\n",
       "  'multivariate_distribution': <bound method MultivariateDistribution.normal_distribution of <src.multivariate_distribution.MultivariateDistribution object at 0x155af2ad0>>,\n",
       "  'number_clusters': 6,\n",
       "  'sample_size_of_observations': 500},\n",
       " {'clustering_method': <bound method ClusteringMethods.normalized_spectral_clustering of <src.clustering_methods.ClusteringMethods object at 0x155af3190>>,\n",
       "  'correlation_network': <bound method CorrelationMeasurement.Kendall of <src.correlation.CorrelationMeasurement object at 0x155af2f10>>,\n",
       "  'multivariate_distribution': <bound method MultivariateDistribution.student_distribution of <src.multivariate_distribution.MultivariateDistribution object at 0x155af2ad0>>,\n",
       "  'number_clusters': 2,\n",
       "  'sample_size_of_observations': 40},\n",
       " {'clustering_method': <bound method ClusteringMethods.normalized_spectral_clustering of <src.clustering_methods.ClusteringMethods object at 0x155af3190>>,\n",
       "  'correlation_network': <bound method CorrelationMeasurement.Kendall of <src.correlation.CorrelationMeasurement object at 0x155af2f10>>,\n",
       "  'multivariate_distribution': <bound method MultivariateDistribution.student_distribution of <src.multivariate_distribution.MultivariateDistribution object at 0x155af2ad0>>,\n",
       "  'number_clusters': 2,\n",
       "  'sample_size_of_observations': 100},\n",
       " {'clustering_method': <bound method ClusteringMethods.normalized_spectral_clustering of <src.clustering_methods.ClusteringMethods object at 0x155af3190>>,\n",
       "  'correlation_network': <bound method CorrelationMeasurement.Kendall of <src.correlation.CorrelationMeasurement object at 0x155af2f10>>,\n",
       "  'multivariate_distribution': <bound method MultivariateDistribution.student_distribution of <src.multivariate_distribution.MultivariateDistribution object at 0x155af2ad0>>,\n",
       "  'number_clusters': 2,\n",
       "  'sample_size_of_observations': 500},\n",
       " {'clustering_method': <bound method ClusteringMethods.normalized_spectral_clustering of <src.clustering_methods.ClusteringMethods object at 0x155af3190>>,\n",
       "  'correlation_network': <bound method CorrelationMeasurement.Kendall of <src.correlation.CorrelationMeasurement object at 0x155af2f10>>,\n",
       "  'multivariate_distribution': <bound method MultivariateDistribution.student_distribution of <src.multivariate_distribution.MultivariateDistribution object at 0x155af2ad0>>,\n",
       "  'number_clusters': 4,\n",
       "  'sample_size_of_observations': 40},\n",
       " {'clustering_method': <bound method ClusteringMethods.normalized_spectral_clustering of <src.clustering_methods.ClusteringMethods object at 0x155af3190>>,\n",
       "  'correlation_network': <bound method CorrelationMeasurement.Kendall of <src.correlation.CorrelationMeasurement object at 0x155af2f10>>,\n",
       "  'multivariate_distribution': <bound method MultivariateDistribution.student_distribution of <src.multivariate_distribution.MultivariateDistribution object at 0x155af2ad0>>,\n",
       "  'number_clusters': 4,\n",
       "  'sample_size_of_observations': 100},\n",
       " {'clustering_method': <bound method ClusteringMethods.normalized_spectral_clustering of <src.clustering_methods.ClusteringMethods object at 0x155af3190>>,\n",
       "  'correlation_network': <bound method CorrelationMeasurement.Kendall of <src.correlation.CorrelationMeasurement object at 0x155af2f10>>,\n",
       "  'multivariate_distribution': <bound method MultivariateDistribution.student_distribution of <src.multivariate_distribution.MultivariateDistribution object at 0x155af2ad0>>,\n",
       "  'number_clusters': 4,\n",
       "  'sample_size_of_observations': 500},\n",
       " {'clustering_method': <bound method ClusteringMethods.normalized_spectral_clustering of <src.clustering_methods.ClusteringMethods object at 0x155af3190>>,\n",
       "  'correlation_network': <bound method CorrelationMeasurement.Kendall of <src.correlation.CorrelationMeasurement object at 0x155af2f10>>,\n",
       "  'multivariate_distribution': <bound method MultivariateDistribution.student_distribution of <src.multivariate_distribution.MultivariateDistribution object at 0x155af2ad0>>,\n",
       "  'number_clusters': 6,\n",
       "  'sample_size_of_observations': 40},\n",
       " {'clustering_method': <bound method ClusteringMethods.normalized_spectral_clustering of <src.clustering_methods.ClusteringMethods object at 0x155af3190>>,\n",
       "  'correlation_network': <bound method CorrelationMeasurement.Kendall of <src.correlation.CorrelationMeasurement object at 0x155af2f10>>,\n",
       "  'multivariate_distribution': <bound method MultivariateDistribution.student_distribution of <src.multivariate_distribution.MultivariateDistribution object at 0x155af2ad0>>,\n",
       "  'number_clusters': 6,\n",
       "  'sample_size_of_observations': 100},\n",
       " {'clustering_method': <bound method ClusteringMethods.normalized_spectral_clustering of <src.clustering_methods.ClusteringMethods object at 0x155af3190>>,\n",
       "  'correlation_network': <bound method CorrelationMeasurement.Kendall of <src.correlation.CorrelationMeasurement object at 0x155af2f10>>,\n",
       "  'multivariate_distribution': <bound method MultivariateDistribution.student_distribution of <src.multivariate_distribution.MultivariateDistribution object at 0x155af2ad0>>,\n",
       "  'number_clusters': 6,\n",
       "  'sample_size_of_observations': 500},\n",
       " {'clustering_method': <bound method ClusteringMethods.normalized_spectral_clustering of <src.clustering_methods.ClusteringMethods object at 0x155af3190>>,\n",
       "  'correlation_network': <bound method CorrelationMeasurement.Fechner of <src.correlation.CorrelationMeasurement object at 0x155af2f10>>,\n",
       "  'multivariate_distribution': <bound method MultivariateDistribution.normal_distribution of <src.multivariate_distribution.MultivariateDistribution object at 0x155af2ad0>>,\n",
       "  'number_clusters': 2,\n",
       "  'sample_size_of_observations': 40},\n",
       " {'clustering_method': <bound method ClusteringMethods.normalized_spectral_clustering of <src.clustering_methods.ClusteringMethods object at 0x155af3190>>,\n",
       "  'correlation_network': <bound method CorrelationMeasurement.Fechner of <src.correlation.CorrelationMeasurement object at 0x155af2f10>>,\n",
       "  'multivariate_distribution': <bound method MultivariateDistribution.normal_distribution of <src.multivariate_distribution.MultivariateDistribution object at 0x155af2ad0>>,\n",
       "  'number_clusters': 2,\n",
       "  'sample_size_of_observations': 100},\n",
       " {'clustering_method': <bound method ClusteringMethods.normalized_spectral_clustering of <src.clustering_methods.ClusteringMethods object at 0x155af3190>>,\n",
       "  'correlation_network': <bound method CorrelationMeasurement.Fechner of <src.correlation.CorrelationMeasurement object at 0x155af2f10>>,\n",
       "  'multivariate_distribution': <bound method MultivariateDistribution.normal_distribution of <src.multivariate_distribution.MultivariateDistribution object at 0x155af2ad0>>,\n",
       "  'number_clusters': 2,\n",
       "  'sample_size_of_observations': 500},\n",
       " {'clustering_method': <bound method ClusteringMethods.normalized_spectral_clustering of <src.clustering_methods.ClusteringMethods object at 0x155af3190>>,\n",
       "  'correlation_network': <bound method CorrelationMeasurement.Fechner of <src.correlation.CorrelationMeasurement object at 0x155af2f10>>,\n",
       "  'multivariate_distribution': <bound method MultivariateDistribution.normal_distribution of <src.multivariate_distribution.MultivariateDistribution object at 0x155af2ad0>>,\n",
       "  'number_clusters': 4,\n",
       "  'sample_size_of_observations': 40},\n",
       " {'clustering_method': <bound method ClusteringMethods.normalized_spectral_clustering of <src.clustering_methods.ClusteringMethods object at 0x155af3190>>,\n",
       "  'correlation_network': <bound method CorrelationMeasurement.Fechner of <src.correlation.CorrelationMeasurement object at 0x155af2f10>>,\n",
       "  'multivariate_distribution': <bound method MultivariateDistribution.normal_distribution of <src.multivariate_distribution.MultivariateDistribution object at 0x155af2ad0>>,\n",
       "  'number_clusters': 4,\n",
       "  'sample_size_of_observations': 100},\n",
       " {'clustering_method': <bound method ClusteringMethods.normalized_spectral_clustering of <src.clustering_methods.ClusteringMethods object at 0x155af3190>>,\n",
       "  'correlation_network': <bound method CorrelationMeasurement.Fechner of <src.correlation.CorrelationMeasurement object at 0x155af2f10>>,\n",
       "  'multivariate_distribution': <bound method MultivariateDistribution.normal_distribution of <src.multivariate_distribution.MultivariateDistribution object at 0x155af2ad0>>,\n",
       "  'number_clusters': 4,\n",
       "  'sample_size_of_observations': 500},\n",
       " {'clustering_method': <bound method ClusteringMethods.normalized_spectral_clustering of <src.clustering_methods.ClusteringMethods object at 0x155af3190>>,\n",
       "  'correlation_network': <bound method CorrelationMeasurement.Fechner of <src.correlation.CorrelationMeasurement object at 0x155af2f10>>,\n",
       "  'multivariate_distribution': <bound method MultivariateDistribution.normal_distribution of <src.multivariate_distribution.MultivariateDistribution object at 0x155af2ad0>>,\n",
       "  'number_clusters': 6,\n",
       "  'sample_size_of_observations': 40},\n",
       " {'clustering_method': <bound method ClusteringMethods.normalized_spectral_clustering of <src.clustering_methods.ClusteringMethods object at 0x155af3190>>,\n",
       "  'correlation_network': <bound method CorrelationMeasurement.Fechner of <src.correlation.CorrelationMeasurement object at 0x155af2f10>>,\n",
       "  'multivariate_distribution': <bound method MultivariateDistribution.normal_distribution of <src.multivariate_distribution.MultivariateDistribution object at 0x155af2ad0>>,\n",
       "  'number_clusters': 6,\n",
       "  'sample_size_of_observations': 100},\n",
       " {'clustering_method': <bound method ClusteringMethods.normalized_spectral_clustering of <src.clustering_methods.ClusteringMethods object at 0x155af3190>>,\n",
       "  'correlation_network': <bound method CorrelationMeasurement.Fechner of <src.correlation.CorrelationMeasurement object at 0x155af2f10>>,\n",
       "  'multivariate_distribution': <bound method MultivariateDistribution.normal_distribution of <src.multivariate_distribution.MultivariateDistribution object at 0x155af2ad0>>,\n",
       "  'number_clusters': 6,\n",
       "  'sample_size_of_observations': 500},\n",
       " {'clustering_method': <bound method ClusteringMethods.normalized_spectral_clustering of <src.clustering_methods.ClusteringMethods object at 0x155af3190>>,\n",
       "  'correlation_network': <bound method CorrelationMeasurement.Fechner of <src.correlation.CorrelationMeasurement object at 0x155af2f10>>,\n",
       "  'multivariate_distribution': <bound method MultivariateDistribution.student_distribution of <src.multivariate_distribution.MultivariateDistribution object at 0x155af2ad0>>,\n",
       "  'number_clusters': 2,\n",
       "  'sample_size_of_observations': 40},\n",
       " {'clustering_method': <bound method ClusteringMethods.normalized_spectral_clustering of <src.clustering_methods.ClusteringMethods object at 0x155af3190>>,\n",
       "  'correlation_network': <bound method CorrelationMeasurement.Fechner of <src.correlation.CorrelationMeasurement object at 0x155af2f10>>,\n",
       "  'multivariate_distribution': <bound method MultivariateDistribution.student_distribution of <src.multivariate_distribution.MultivariateDistribution object at 0x155af2ad0>>,\n",
       "  'number_clusters': 2,\n",
       "  'sample_size_of_observations': 100},\n",
       " {'clustering_method': <bound method ClusteringMethods.normalized_spectral_clustering of <src.clustering_methods.ClusteringMethods object at 0x155af3190>>,\n",
       "  'correlation_network': <bound method CorrelationMeasurement.Fechner of <src.correlation.CorrelationMeasurement object at 0x155af2f10>>,\n",
       "  'multivariate_distribution': <bound method MultivariateDistribution.student_distribution of <src.multivariate_distribution.MultivariateDistribution object at 0x155af2ad0>>,\n",
       "  'number_clusters': 2,\n",
       "  'sample_size_of_observations': 500},\n",
       " {'clustering_method': <bound method ClusteringMethods.normalized_spectral_clustering of <src.clustering_methods.ClusteringMethods object at 0x155af3190>>,\n",
       "  'correlation_network': <bound method CorrelationMeasurement.Fechner of <src.correlation.CorrelationMeasurement object at 0x155af2f10>>,\n",
       "  'multivariate_distribution': <bound method MultivariateDistribution.student_distribution of <src.multivariate_distribution.MultivariateDistribution object at 0x155af2ad0>>,\n",
       "  'number_clusters': 4,\n",
       "  'sample_size_of_observations': 40},\n",
       " {'clustering_method': <bound method ClusteringMethods.normalized_spectral_clustering of <src.clustering_methods.ClusteringMethods object at 0x155af3190>>,\n",
       "  'correlation_network': <bound method CorrelationMeasurement.Fechner of <src.correlation.CorrelationMeasurement object at 0x155af2f10>>,\n",
       "  'multivariate_distribution': <bound method MultivariateDistribution.student_distribution of <src.multivariate_distribution.MultivariateDistribution object at 0x155af2ad0>>,\n",
       "  'number_clusters': 4,\n",
       "  'sample_size_of_observations': 100},\n",
       " {'clustering_method': <bound method ClusteringMethods.normalized_spectral_clustering of <src.clustering_methods.ClusteringMethods object at 0x155af3190>>,\n",
       "  'correlation_network': <bound method CorrelationMeasurement.Fechner of <src.correlation.CorrelationMeasurement object at 0x155af2f10>>,\n",
       "  'multivariate_distribution': <bound method MultivariateDistribution.student_distribution of <src.multivariate_distribution.MultivariateDistribution object at 0x155af2ad0>>,\n",
       "  'number_clusters': 4,\n",
       "  'sample_size_of_observations': 500},\n",
       " {'clustering_method': <bound method ClusteringMethods.normalized_spectral_clustering of <src.clustering_methods.ClusteringMethods object at 0x155af3190>>,\n",
       "  'correlation_network': <bound method CorrelationMeasurement.Fechner of <src.correlation.CorrelationMeasurement object at 0x155af2f10>>,\n",
       "  'multivariate_distribution': <bound method MultivariateDistribution.student_distribution of <src.multivariate_distribution.MultivariateDistribution object at 0x155af2ad0>>,\n",
       "  'number_clusters': 6,\n",
       "  'sample_size_of_observations': 40},\n",
       " {'clustering_method': <bound method ClusteringMethods.normalized_spectral_clustering of <src.clustering_methods.ClusteringMethods object at 0x155af3190>>,\n",
       "  'correlation_network': <bound method CorrelationMeasurement.Fechner of <src.correlation.CorrelationMeasurement object at 0x155af2f10>>,\n",
       "  'multivariate_distribution': <bound method MultivariateDistribution.student_distribution of <src.multivariate_distribution.MultivariateDistribution object at 0x155af2ad0>>,\n",
       "  'number_clusters': 6,\n",
       "  'sample_size_of_observations': 100},\n",
       " {'clustering_method': <bound method ClusteringMethods.normalized_spectral_clustering of <src.clustering_methods.ClusteringMethods object at 0x155af3190>>,\n",
       "  'correlation_network': <bound method CorrelationMeasurement.Fechner of <src.correlation.CorrelationMeasurement object at 0x155af2f10>>,\n",
       "  'multivariate_distribution': <bound method MultivariateDistribution.student_distribution of <src.multivariate_distribution.MultivariateDistribution object at 0x155af2ad0>>,\n",
       "  'number_clusters': 6,\n",
       "  'sample_size_of_observations': 500}]"
      ]
     },
     "execution_count": 12,
     "metadata": {},
     "output_type": "execute_result"
    }
   ],
   "source": [
    "combinations"
   ]
  },
  {
   "cell_type": "code",
   "execution_count": 13,
   "metadata": {},
   "outputs": [],
   "source": [
    "def one_experiment(\n",
    "      cluster_method,\n",
    "      correlation_method,\n",
    "      multivariate_distribution,\n",
    "      number_clusters,\n",
    "      sample_size_of_observations,\n",
    "      Stocks,\n",
    "      true_cov_matrix,\n",
    "      true_mean_vec,\n",
    ") -> float:\n",
    "   artificial_cluster_structure = ArtificialСlusterStructure()\n",
    "   correlation_matrix = []\n",
    "   for stock_1 in Stocks:\n",
    "      row = []\n",
    "      for stock_2 in Stocks:\n",
    "         row.append(correlation_method(data_1 = stock_1.returns, data_2 = stock_2.returns))\n",
    "      correlation_matrix.append(row)\n",
    "   true_labels = cluster_method(np.array(correlation_matrix), number_clusters)\n",
    "\n",
    "   gen_labels_ = artificial_cluster_structure.clustering(\n",
    "      multivariate_distribution = multivariate_distribution,\n",
    "      mean_vector = true_mean_vec,\n",
    "      cov_matrix = true_cov_matrix,\n",
    "      sample_size_of_observations = sample_size_of_observations,\n",
    "      correlation_method = correlation_method,\n",
    "      clustering_method = cluster_method,\n",
    "      number_clusters = number_clusters\n",
    "   )\n",
    "\n",
    "   return adjusted_rand_score(true_labels, gen_labels_)\n",
    "    "
   ]
  },
  {
   "cell_type": "code",
   "execution_count": 14,
   "metadata": {},
   "outputs": [
    {
     "name": "stderr",
     "output_type": "stream",
     "text": [
      "0it [00:00, ?it/s]"
     ]
    },
    {
     "name": "stdout",
     "output_type": "stream",
     "text": [
      "======= {'clustering_method': 'normalized_spectral_clustering', 'correlation_network': 'Pearson', 'multivariate_distribution': 'normal_distribution', 'number_clusters': 2, 'sample_size_of_observations': 10}\n"
     ]
    },
    {
     "name": "stderr",
     "output_type": "stream",
     "text": [
      "1it [03:49, 229.30s/it]"
     ]
    },
    {
     "name": "stdout",
     "output_type": "stream",
     "text": [
      "======= {'clustering_method': 'normalized_spectral_clustering', 'correlation_network': 'Pearson', 'multivariate_distribution': 'normal_distribution', 'number_clusters': 2, 'sample_size_of_observations': 20}\n"
     ]
    },
    {
     "name": "stderr",
     "output_type": "stream",
     "text": [
      "2it [07:32, 225.60s/it]"
     ]
    },
    {
     "name": "stdout",
     "output_type": "stream",
     "text": [
      "======= {'clustering_method': 'normalized_spectral_clustering', 'correlation_network': 'Pearson', 'multivariate_distribution': 'normal_distribution', 'number_clusters': 2, 'sample_size_of_observations': 40}\n"
     ]
    },
    {
     "name": "stderr",
     "output_type": "stream",
     "text": [
      "3it [11:14, 223.89s/it]"
     ]
    },
    {
     "name": "stdout",
     "output_type": "stream",
     "text": [
      "======= {'clustering_method': 'normalized_spectral_clustering', 'correlation_network': 'Pearson', 'multivariate_distribution': 'normal_distribution', 'number_clusters': 2, 'sample_size_of_observations': 60}\n"
     ]
    },
    {
     "name": "stderr",
     "output_type": "stream",
     "text": [
      "4it [14:54, 222.54s/it]"
     ]
    },
    {
     "name": "stdout",
     "output_type": "stream",
     "text": [
      "======= {'clustering_method': 'normalized_spectral_clustering', 'correlation_network': 'Pearson', 'multivariate_distribution': 'normal_distribution', 'number_clusters': 4, 'sample_size_of_observations': 10}\n"
     ]
    },
    {
     "name": "stderr",
     "output_type": "stream",
     "text": [
      "5it [18:34, 221.75s/it]"
     ]
    },
    {
     "name": "stdout",
     "output_type": "stream",
     "text": [
      "======= {'clustering_method': 'normalized_spectral_clustering', 'correlation_network': 'Pearson', 'multivariate_distribution': 'normal_distribution', 'number_clusters': 4, 'sample_size_of_observations': 20}\n"
     ]
    },
    {
     "name": "stderr",
     "output_type": "stream",
     "text": [
      "6it [22:16, 221.62s/it]"
     ]
    },
    {
     "name": "stdout",
     "output_type": "stream",
     "text": [
      "======= {'clustering_method': 'normalized_spectral_clustering', 'correlation_network': 'Pearson', 'multivariate_distribution': 'normal_distribution', 'number_clusters': 4, 'sample_size_of_observations': 40}\n"
     ]
    },
    {
     "name": "stderr",
     "output_type": "stream",
     "text": [
      "7it [25:54, 220.52s/it]"
     ]
    },
    {
     "name": "stdout",
     "output_type": "stream",
     "text": [
      "======= {'clustering_method': 'normalized_spectral_clustering', 'correlation_network': 'Pearson', 'multivariate_distribution': 'normal_distribution', 'number_clusters': 4, 'sample_size_of_observations': 60}\n"
     ]
    },
    {
     "name": "stderr",
     "output_type": "stream",
     "text": [
      "8it [30:02, 229.13s/it]"
     ]
    },
    {
     "name": "stdout",
     "output_type": "stream",
     "text": [
      "======= {'clustering_method': 'normalized_spectral_clustering', 'correlation_network': 'Pearson', 'multivariate_distribution': 'normal_distribution', 'number_clusters': 6, 'sample_size_of_observations': 10}\n"
     ]
    },
    {
     "name": "stderr",
     "output_type": "stream",
     "text": [
      "9it [33:50, 228.98s/it]"
     ]
    },
    {
     "name": "stdout",
     "output_type": "stream",
     "text": [
      "======= {'clustering_method': 'normalized_spectral_clustering', 'correlation_network': 'Pearson', 'multivariate_distribution': 'normal_distribution', 'number_clusters': 6, 'sample_size_of_observations': 20}\n"
     ]
    },
    {
     "name": "stderr",
     "output_type": "stream",
     "text": [
      "10it [37:38, 228.45s/it]"
     ]
    },
    {
     "name": "stdout",
     "output_type": "stream",
     "text": [
      "======= {'clustering_method': 'normalized_spectral_clustering', 'correlation_network': 'Pearson', 'multivariate_distribution': 'normal_distribution', 'number_clusters': 6, 'sample_size_of_observations': 40}\n"
     ]
    },
    {
     "name": "stderr",
     "output_type": "stream",
     "text": [
      "11it [41:26, 228.32s/it]"
     ]
    },
    {
     "name": "stdout",
     "output_type": "stream",
     "text": [
      "======= {'clustering_method': 'normalized_spectral_clustering', 'correlation_network': 'Pearson', 'multivariate_distribution': 'normal_distribution', 'number_clusters': 6, 'sample_size_of_observations': 60}\n"
     ]
    },
    {
     "name": "stderr",
     "output_type": "stream",
     "text": [
      "12it [45:15, 228.53s/it]"
     ]
    },
    {
     "name": "stdout",
     "output_type": "stream",
     "text": [
      "======= {'clustering_method': 'normalized_spectral_clustering', 'correlation_network': 'Pearson', 'multivariate_distribution': 'student_distribution', 'number_clusters': 2, 'sample_size_of_observations': 10}\n"
     ]
    },
    {
     "name": "stderr",
     "output_type": "stream",
     "text": [
      "13it [48:57, 226.78s/it]"
     ]
    },
    {
     "name": "stdout",
     "output_type": "stream",
     "text": [
      "======= {'clustering_method': 'normalized_spectral_clustering', 'correlation_network': 'Pearson', 'multivariate_distribution': 'student_distribution', 'number_clusters': 2, 'sample_size_of_observations': 20}\n"
     ]
    },
    {
     "name": "stderr",
     "output_type": "stream",
     "text": [
      "14it [52:35, 224.01s/it]"
     ]
    },
    {
     "name": "stdout",
     "output_type": "stream",
     "text": [
      "======= {'clustering_method': 'normalized_spectral_clustering', 'correlation_network': 'Pearson', 'multivariate_distribution': 'student_distribution', 'number_clusters': 2, 'sample_size_of_observations': 40}\n"
     ]
    },
    {
     "name": "stderr",
     "output_type": "stream",
     "text": [
      "15it [56:14, 222.46s/it]"
     ]
    },
    {
     "name": "stdout",
     "output_type": "stream",
     "text": [
      "======= {'clustering_method': 'normalized_spectral_clustering', 'correlation_network': 'Pearson', 'multivariate_distribution': 'student_distribution', 'number_clusters': 2, 'sample_size_of_observations': 60}\n"
     ]
    },
    {
     "name": "stderr",
     "output_type": "stream",
     "text": [
      "16it [59:52, 221.05s/it]"
     ]
    },
    {
     "name": "stdout",
     "output_type": "stream",
     "text": [
      "======= {'clustering_method': 'normalized_spectral_clustering', 'correlation_network': 'Pearson', 'multivariate_distribution': 'student_distribution', 'number_clusters': 4, 'sample_size_of_observations': 10}\n"
     ]
    },
    {
     "name": "stderr",
     "output_type": "stream",
     "text": [
      "17it [1:03:29, 220.08s/it]"
     ]
    },
    {
     "name": "stdout",
     "output_type": "stream",
     "text": [
      "======= {'clustering_method': 'normalized_spectral_clustering', 'correlation_network': 'Pearson', 'multivariate_distribution': 'student_distribution', 'number_clusters': 4, 'sample_size_of_observations': 20}\n"
     ]
    },
    {
     "name": "stderr",
     "output_type": "stream",
     "text": [
      "18it [1:07:08, 219.71s/it]"
     ]
    },
    {
     "name": "stdout",
     "output_type": "stream",
     "text": [
      "======= {'clustering_method': 'normalized_spectral_clustering', 'correlation_network': 'Pearson', 'multivariate_distribution': 'student_distribution', 'number_clusters': 4, 'sample_size_of_observations': 40}\n"
     ]
    },
    {
     "name": "stderr",
     "output_type": "stream",
     "text": [
      "19it [1:10:47, 219.40s/it]"
     ]
    },
    {
     "name": "stdout",
     "output_type": "stream",
     "text": [
      "======= {'clustering_method': 'normalized_spectral_clustering', 'correlation_network': 'Pearson', 'multivariate_distribution': 'student_distribution', 'number_clusters': 4, 'sample_size_of_observations': 60}\n"
     ]
    },
    {
     "name": "stderr",
     "output_type": "stream",
     "text": [
      "20it [1:14:26, 219.19s/it]"
     ]
    },
    {
     "name": "stdout",
     "output_type": "stream",
     "text": [
      "======= {'clustering_method': 'normalized_spectral_clustering', 'correlation_network': 'Pearson', 'multivariate_distribution': 'student_distribution', 'number_clusters': 6, 'sample_size_of_observations': 10}\n"
     ]
    },
    {
     "name": "stderr",
     "output_type": "stream",
     "text": [
      "21it [1:18:05, 219.24s/it]"
     ]
    },
    {
     "name": "stdout",
     "output_type": "stream",
     "text": [
      "======= {'clustering_method': 'normalized_spectral_clustering', 'correlation_network': 'Pearson', 'multivariate_distribution': 'student_distribution', 'number_clusters': 6, 'sample_size_of_observations': 20}\n"
     ]
    },
    {
     "name": "stderr",
     "output_type": "stream",
     "text": [
      "22it [1:21:44, 219.10s/it]"
     ]
    },
    {
     "name": "stdout",
     "output_type": "stream",
     "text": [
      "======= {'clustering_method': 'normalized_spectral_clustering', 'correlation_network': 'Pearson', 'multivariate_distribution': 'student_distribution', 'number_clusters': 6, 'sample_size_of_observations': 40}\n"
     ]
    },
    {
     "name": "stderr",
     "output_type": "stream",
     "text": [
      "23it [1:25:23, 218.99s/it]"
     ]
    },
    {
     "name": "stdout",
     "output_type": "stream",
     "text": [
      "======= {'clustering_method': 'normalized_spectral_clustering', 'correlation_network': 'Pearson', 'multivariate_distribution': 'student_distribution', 'number_clusters': 6, 'sample_size_of_observations': 60}\n"
     ]
    },
    {
     "name": "stderr",
     "output_type": "stream",
     "text": [
      "24it [1:29:02, 219.14s/it]"
     ]
    },
    {
     "name": "stdout",
     "output_type": "stream",
     "text": [
      "======= {'clustering_method': 'normalized_spectral_clustering', 'correlation_network': 'Kendall', 'multivariate_distribution': 'normal_distribution', 'number_clusters': 2, 'sample_size_of_observations': 10}\n"
     ]
    },
    {
     "name": "stderr",
     "output_type": "stream",
     "text": [
      "25it [1:32:41, 218.99s/it]"
     ]
    },
    {
     "name": "stdout",
     "output_type": "stream",
     "text": [
      "======= {'clustering_method': 'normalized_spectral_clustering', 'correlation_network': 'Kendall', 'multivariate_distribution': 'normal_distribution', 'number_clusters': 2, 'sample_size_of_observations': 20}\n"
     ]
    },
    {
     "name": "stderr",
     "output_type": "stream",
     "text": [
      "26it [1:36:20, 218.97s/it]"
     ]
    },
    {
     "name": "stdout",
     "output_type": "stream",
     "text": [
      "======= {'clustering_method': 'normalized_spectral_clustering', 'correlation_network': 'Kendall', 'multivariate_distribution': 'normal_distribution', 'number_clusters': 2, 'sample_size_of_observations': 40}\n"
     ]
    },
    {
     "name": "stderr",
     "output_type": "stream",
     "text": [
      "27it [1:40:00, 219.31s/it]"
     ]
    },
    {
     "name": "stdout",
     "output_type": "stream",
     "text": [
      "======= {'clustering_method': 'normalized_spectral_clustering', 'correlation_network': 'Kendall', 'multivariate_distribution': 'normal_distribution', 'number_clusters': 2, 'sample_size_of_observations': 60}\n"
     ]
    },
    {
     "name": "stderr",
     "output_type": "stream",
     "text": [
      "28it [1:43:39, 219.24s/it]"
     ]
    },
    {
     "name": "stdout",
     "output_type": "stream",
     "text": [
      "======= {'clustering_method': 'normalized_spectral_clustering', 'correlation_network': 'Kendall', 'multivariate_distribution': 'normal_distribution', 'number_clusters': 4, 'sample_size_of_observations': 10}\n"
     ]
    },
    {
     "name": "stderr",
     "output_type": "stream",
     "text": [
      "29it [1:47:17, 219.06s/it]"
     ]
    },
    {
     "name": "stdout",
     "output_type": "stream",
     "text": [
      "======= {'clustering_method': 'normalized_spectral_clustering', 'correlation_network': 'Kendall', 'multivariate_distribution': 'normal_distribution', 'number_clusters': 4, 'sample_size_of_observations': 20}\n"
     ]
    },
    {
     "name": "stderr",
     "output_type": "stream",
     "text": [
      "30it [1:50:57, 219.30s/it]"
     ]
    },
    {
     "name": "stdout",
     "output_type": "stream",
     "text": [
      "======= {'clustering_method': 'normalized_spectral_clustering', 'correlation_network': 'Kendall', 'multivariate_distribution': 'normal_distribution', 'number_clusters': 4, 'sample_size_of_observations': 40}\n"
     ]
    },
    {
     "name": "stderr",
     "output_type": "stream",
     "text": [
      "31it [1:54:36, 219.20s/it]"
     ]
    },
    {
     "name": "stdout",
     "output_type": "stream",
     "text": [
      "======= {'clustering_method': 'normalized_spectral_clustering', 'correlation_network': 'Kendall', 'multivariate_distribution': 'normal_distribution', 'number_clusters': 4, 'sample_size_of_observations': 60}\n"
     ]
    },
    {
     "name": "stderr",
     "output_type": "stream",
     "text": [
      "32it [1:58:15, 219.00s/it]"
     ]
    },
    {
     "name": "stdout",
     "output_type": "stream",
     "text": [
      "======= {'clustering_method': 'normalized_spectral_clustering', 'correlation_network': 'Kendall', 'multivariate_distribution': 'normal_distribution', 'number_clusters': 6, 'sample_size_of_observations': 10}\n"
     ]
    },
    {
     "name": "stderr",
     "output_type": "stream",
     "text": [
      "33it [2:01:54, 219.17s/it]"
     ]
    },
    {
     "name": "stdout",
     "output_type": "stream",
     "text": [
      "======= {'clustering_method': 'normalized_spectral_clustering', 'correlation_network': 'Kendall', 'multivariate_distribution': 'normal_distribution', 'number_clusters': 6, 'sample_size_of_observations': 20}\n"
     ]
    },
    {
     "name": "stderr",
     "output_type": "stream",
     "text": [
      "34it [2:05:33, 219.02s/it]"
     ]
    },
    {
     "name": "stdout",
     "output_type": "stream",
     "text": [
      "======= {'clustering_method': 'normalized_spectral_clustering', 'correlation_network': 'Kendall', 'multivariate_distribution': 'normal_distribution', 'number_clusters': 6, 'sample_size_of_observations': 40}\n"
     ]
    },
    {
     "name": "stderr",
     "output_type": "stream",
     "text": [
      "35it [2:09:12, 218.95s/it]"
     ]
    },
    {
     "name": "stdout",
     "output_type": "stream",
     "text": [
      "======= {'clustering_method': 'normalized_spectral_clustering', 'correlation_network': 'Kendall', 'multivariate_distribution': 'normal_distribution', 'number_clusters': 6, 'sample_size_of_observations': 60}\n"
     ]
    },
    {
     "name": "stderr",
     "output_type": "stream",
     "text": [
      "36it [2:12:52, 219.24s/it]"
     ]
    },
    {
     "name": "stdout",
     "output_type": "stream",
     "text": [
      "======= {'clustering_method': 'normalized_spectral_clustering', 'correlation_network': 'Kendall', 'multivariate_distribution': 'student_distribution', 'number_clusters': 2, 'sample_size_of_observations': 10}\n"
     ]
    },
    {
     "name": "stderr",
     "output_type": "stream",
     "text": [
      "37it [2:13:28, 164.48s/it]"
     ]
    },
    {
     "name": "stdout",
     "output_type": "stream",
     "text": [
      "======= {'clustering_method': 'normalized_spectral_clustering', 'correlation_network': 'Kendall', 'multivariate_distribution': 'student_distribution', 'number_clusters': 2, 'sample_size_of_observations': 20}\n"
     ]
    },
    {
     "name": "stderr",
     "output_type": "stream",
     "text": [
      "38it [2:14:05, 126.16s/it]"
     ]
    },
    {
     "name": "stdout",
     "output_type": "stream",
     "text": [
      "======= {'clustering_method': 'normalized_spectral_clustering', 'correlation_network': 'Kendall', 'multivariate_distribution': 'student_distribution', 'number_clusters': 2, 'sample_size_of_observations': 40}\n"
     ]
    },
    {
     "name": "stderr",
     "output_type": "stream",
     "text": [
      "39it [2:14:43, 99.60s/it] "
     ]
    },
    {
     "name": "stdout",
     "output_type": "stream",
     "text": [
      "======= {'clustering_method': 'normalized_spectral_clustering', 'correlation_network': 'Kendall', 'multivariate_distribution': 'student_distribution', 'number_clusters': 2, 'sample_size_of_observations': 60}\n"
     ]
    },
    {
     "name": "stderr",
     "output_type": "stream",
     "text": [
      "40it [2:15:20, 80.74s/it]"
     ]
    },
    {
     "name": "stdout",
     "output_type": "stream",
     "text": [
      "======= {'clustering_method': 'normalized_spectral_clustering', 'correlation_network': 'Kendall', 'multivariate_distribution': 'student_distribution', 'number_clusters': 4, 'sample_size_of_observations': 10}\n"
     ]
    },
    {
     "name": "stderr",
     "output_type": "stream",
     "text": [
      "41it [2:15:56, 67.60s/it]"
     ]
    },
    {
     "name": "stdout",
     "output_type": "stream",
     "text": [
      "======= {'clustering_method': 'normalized_spectral_clustering', 'correlation_network': 'Kendall', 'multivariate_distribution': 'student_distribution', 'number_clusters': 4, 'sample_size_of_observations': 20}\n"
     ]
    },
    {
     "name": "stderr",
     "output_type": "stream",
     "text": [
      "42it [2:16:34, 58.59s/it]"
     ]
    },
    {
     "name": "stdout",
     "output_type": "stream",
     "text": [
      "======= {'clustering_method': 'normalized_spectral_clustering', 'correlation_network': 'Kendall', 'multivariate_distribution': 'student_distribution', 'number_clusters': 4, 'sample_size_of_observations': 40}\n"
     ]
    },
    {
     "name": "stderr",
     "output_type": "stream",
     "text": [
      "43it [2:17:11, 52.04s/it]"
     ]
    },
    {
     "name": "stdout",
     "output_type": "stream",
     "text": [
      "======= {'clustering_method': 'normalized_spectral_clustering', 'correlation_network': 'Kendall', 'multivariate_distribution': 'student_distribution', 'number_clusters': 4, 'sample_size_of_observations': 60}\n"
     ]
    },
    {
     "name": "stderr",
     "output_type": "stream",
     "text": [
      "44it [2:17:48, 47.48s/it]"
     ]
    },
    {
     "name": "stdout",
     "output_type": "stream",
     "text": [
      "======= {'clustering_method': 'normalized_spectral_clustering', 'correlation_network': 'Kendall', 'multivariate_distribution': 'student_distribution', 'number_clusters': 6, 'sample_size_of_observations': 10}\n"
     ]
    },
    {
     "name": "stderr",
     "output_type": "stream",
     "text": [
      "45it [2:18:25, 44.54s/it]"
     ]
    },
    {
     "name": "stdout",
     "output_type": "stream",
     "text": [
      "======= {'clustering_method': 'normalized_spectral_clustering', 'correlation_network': 'Kendall', 'multivariate_distribution': 'student_distribution', 'number_clusters': 6, 'sample_size_of_observations': 20}\n"
     ]
    },
    {
     "name": "stderr",
     "output_type": "stream",
     "text": [
      "46it [2:19:02, 42.16s/it]"
     ]
    },
    {
     "name": "stdout",
     "output_type": "stream",
     "text": [
      "======= {'clustering_method': 'normalized_spectral_clustering', 'correlation_network': 'Kendall', 'multivariate_distribution': 'student_distribution', 'number_clusters': 6, 'sample_size_of_observations': 40}\n"
     ]
    },
    {
     "name": "stderr",
     "output_type": "stream",
     "text": [
      "47it [2:19:39, 40.53s/it]"
     ]
    },
    {
     "name": "stdout",
     "output_type": "stream",
     "text": [
      "======= {'clustering_method': 'normalized_spectral_clustering', 'correlation_network': 'Kendall', 'multivariate_distribution': 'student_distribution', 'number_clusters': 6, 'sample_size_of_observations': 60}\n"
     ]
    },
    {
     "name": "stderr",
     "output_type": "stream",
     "text": [
      "48it [2:20:16, 39.67s/it]"
     ]
    },
    {
     "name": "stdout",
     "output_type": "stream",
     "text": [
      "======= {'clustering_method': 'normalized_spectral_clustering', 'correlation_network': 'Fechner', 'multivariate_distribution': 'normal_distribution', 'number_clusters': 2, 'sample_size_of_observations': 10}\n"
     ]
    },
    {
     "name": "stderr",
     "output_type": "stream",
     "text": [
      "49it [2:20:53, 38.83s/it]"
     ]
    },
    {
     "name": "stdout",
     "output_type": "stream",
     "text": [
      "======= {'clustering_method': 'normalized_spectral_clustering', 'correlation_network': 'Fechner', 'multivariate_distribution': 'normal_distribution', 'number_clusters': 2, 'sample_size_of_observations': 20}\n"
     ]
    },
    {
     "name": "stderr",
     "output_type": "stream",
     "text": [
      "50it [2:21:30, 38.23s/it]"
     ]
    },
    {
     "name": "stdout",
     "output_type": "stream",
     "text": [
      "======= {'clustering_method': 'normalized_spectral_clustering', 'correlation_network': 'Fechner', 'multivariate_distribution': 'normal_distribution', 'number_clusters': 2, 'sample_size_of_observations': 40}\n"
     ]
    },
    {
     "name": "stderr",
     "output_type": "stream",
     "text": [
      "51it [2:22:08, 38.07s/it]"
     ]
    },
    {
     "name": "stdout",
     "output_type": "stream",
     "text": [
      "======= {'clustering_method': 'normalized_spectral_clustering', 'correlation_network': 'Fechner', 'multivariate_distribution': 'normal_distribution', 'number_clusters': 2, 'sample_size_of_observations': 60}\n"
     ]
    },
    {
     "name": "stderr",
     "output_type": "stream",
     "text": [
      "52it [2:22:44, 37.67s/it]"
     ]
    },
    {
     "name": "stdout",
     "output_type": "stream",
     "text": [
      "======= {'clustering_method': 'normalized_spectral_clustering', 'correlation_network': 'Fechner', 'multivariate_distribution': 'normal_distribution', 'number_clusters': 4, 'sample_size_of_observations': 10}\n"
     ]
    },
    {
     "name": "stderr",
     "output_type": "stream",
     "text": [
      "53it [2:23:21, 37.45s/it]"
     ]
    },
    {
     "name": "stdout",
     "output_type": "stream",
     "text": [
      "======= {'clustering_method': 'normalized_spectral_clustering', 'correlation_network': 'Fechner', 'multivariate_distribution': 'normal_distribution', 'number_clusters': 4, 'sample_size_of_observations': 20}\n"
     ]
    },
    {
     "name": "stderr",
     "output_type": "stream",
     "text": [
      "                         \r"
     ]
    }
   ],
   "source": [
    "results_experiments = pd.DataFrame()\n",
    "number_repetitions = 100\n",
    "\n",
    "for combination, combination_name in tqdm(zip(combinations, combinations_name), leave=False):\n",
    "    print('=======', combination_name)\n",
    "    \n",
    "    ari_score_results = []\n",
    "    for count in range(number_repetitions):\n",
    "        result_score = one_experiment(\n",
    "            cluster_method = combination['clustering_method'],\n",
    "            correlation_method = combination['correlation_network'],\n",
    "            multivariate_distribution = combination['multivariate_distribution'],\n",
    "            number_clusters = combination['number_clusters'],\n",
    "            sample_size_of_observations = combination['sample_size_of_observations'],\n",
    "            Stocks = DATA_OF_STOCKS,\n",
    "            true_cov_matrix = true_cov_matrix,\n",
    "            true_mean_vec = true_mean_vec,\n",
    "        )\n",
    "        ari_score_results.append(result_score)\n",
    "    combination_name['ARI'] = np.mean(ari_score_results)\n",
    "    results_experiments = results_experiments._append(pd.Series(combination_name), ignore_index=True)\n",
    "        "
   ]
  },
  {
   "cell_type": "code",
   "execution_count": 10,
   "metadata": {},
   "outputs": [
    {
     "data": {
      "text/html": [
       "<div>\n",
       "<style scoped>\n",
       "    .dataframe tbody tr th:only-of-type {\n",
       "        vertical-align: middle;\n",
       "    }\n",
       "\n",
       "    .dataframe tbody tr th {\n",
       "        vertical-align: top;\n",
       "    }\n",
       "\n",
       "    .dataframe thead th {\n",
       "        text-align: right;\n",
       "    }\n",
       "</style>\n",
       "<table border=\"1\" class=\"dataframe\">\n",
       "  <thead>\n",
       "    <tr style=\"text-align: right;\">\n",
       "      <th></th>\n",
       "      <th>clustering_method</th>\n",
       "      <th>correlation_network</th>\n",
       "      <th>multivariate_distribution</th>\n",
       "      <th>number_clusters</th>\n",
       "      <th>sample_size_of_observations</th>\n",
       "      <th>ARI</th>\n",
       "    </tr>\n",
       "  </thead>\n",
       "  <tbody>\n",
       "    <tr>\n",
       "      <th>0</th>\n",
       "      <td>single_clustering</td>\n",
       "      <td>Pearson</td>\n",
       "      <td>normal_distribution</td>\n",
       "      <td>2</td>\n",
       "      <td>10</td>\n",
       "      <td>0.110729</td>\n",
       "    </tr>\n",
       "    <tr>\n",
       "      <th>1</th>\n",
       "      <td>single_clustering</td>\n",
       "      <td>Pearson</td>\n",
       "      <td>normal_distribution</td>\n",
       "      <td>2</td>\n",
       "      <td>20</td>\n",
       "      <td>0.146771</td>\n",
       "    </tr>\n",
       "    <tr>\n",
       "      <th>2</th>\n",
       "      <td>single_clustering</td>\n",
       "      <td>Pearson</td>\n",
       "      <td>normal_distribution</td>\n",
       "      <td>2</td>\n",
       "      <td>40</td>\n",
       "      <td>0.300695</td>\n",
       "    </tr>\n",
       "    <tr>\n",
       "      <th>3</th>\n",
       "      <td>single_clustering</td>\n",
       "      <td>Pearson</td>\n",
       "      <td>normal_distribution</td>\n",
       "      <td>2</td>\n",
       "      <td>60</td>\n",
       "      <td>0.058854</td>\n",
       "    </tr>\n",
       "    <tr>\n",
       "      <th>4</th>\n",
       "      <td>single_clustering</td>\n",
       "      <td>Pearson</td>\n",
       "      <td>normal_distribution</td>\n",
       "      <td>4</td>\n",
       "      <td>10</td>\n",
       "      <td>0.090857</td>\n",
       "    </tr>\n",
       "    <tr>\n",
       "      <th>...</th>\n",
       "      <td>...</td>\n",
       "      <td>...</td>\n",
       "      <td>...</td>\n",
       "      <td>...</td>\n",
       "      <td>...</td>\n",
       "      <td>...</td>\n",
       "    </tr>\n",
       "    <tr>\n",
       "      <th>211</th>\n",
       "      <td>spectral_clustering</td>\n",
       "      <td>Fechner</td>\n",
       "      <td>student_distribution</td>\n",
       "      <td>4</td>\n",
       "      <td>60</td>\n",
       "      <td>0.349267</td>\n",
       "    </tr>\n",
       "    <tr>\n",
       "      <th>212</th>\n",
       "      <td>spectral_clustering</td>\n",
       "      <td>Fechner</td>\n",
       "      <td>student_distribution</td>\n",
       "      <td>6</td>\n",
       "      <td>10</td>\n",
       "      <td>0.512834</td>\n",
       "    </tr>\n",
       "    <tr>\n",
       "      <th>213</th>\n",
       "      <td>spectral_clustering</td>\n",
       "      <td>Fechner</td>\n",
       "      <td>student_distribution</td>\n",
       "      <td>6</td>\n",
       "      <td>20</td>\n",
       "      <td>0.150226</td>\n",
       "    </tr>\n",
       "    <tr>\n",
       "      <th>214</th>\n",
       "      <td>spectral_clustering</td>\n",
       "      <td>Fechner</td>\n",
       "      <td>student_distribution</td>\n",
       "      <td>6</td>\n",
       "      <td>40</td>\n",
       "      <td>0.235105</td>\n",
       "    </tr>\n",
       "    <tr>\n",
       "      <th>215</th>\n",
       "      <td>spectral_clustering</td>\n",
       "      <td>Fechner</td>\n",
       "      <td>student_distribution</td>\n",
       "      <td>6</td>\n",
       "      <td>60</td>\n",
       "      <td>0.369886</td>\n",
       "    </tr>\n",
       "  </tbody>\n",
       "</table>\n",
       "<p>216 rows × 6 columns</p>\n",
       "</div>"
      ],
      "text/plain": [
       "       clustering_method correlation_network multivariate_distribution  \\\n",
       "0      single_clustering             Pearson       normal_distribution   \n",
       "1      single_clustering             Pearson       normal_distribution   \n",
       "2      single_clustering             Pearson       normal_distribution   \n",
       "3      single_clustering             Pearson       normal_distribution   \n",
       "4      single_clustering             Pearson       normal_distribution   \n",
       "..                   ...                 ...                       ...   \n",
       "211  spectral_clustering             Fechner      student_distribution   \n",
       "212  spectral_clustering             Fechner      student_distribution   \n",
       "213  spectral_clustering             Fechner      student_distribution   \n",
       "214  spectral_clustering             Fechner      student_distribution   \n",
       "215  spectral_clustering             Fechner      student_distribution   \n",
       "\n",
       "     number_clusters  sample_size_of_observations       ARI  \n",
       "0                  2                           10  0.110729  \n",
       "1                  2                           20  0.146771  \n",
       "2                  2                           40  0.300695  \n",
       "3                  2                           60  0.058854  \n",
       "4                  4                           10  0.090857  \n",
       "..               ...                          ...       ...  \n",
       "211                4                           60  0.349267  \n",
       "212                6                           10  0.512834  \n",
       "213                6                           20  0.150226  \n",
       "214                6                           40  0.235105  \n",
       "215                6                           60  0.369886  \n",
       "\n",
       "[216 rows x 6 columns]"
      ]
     },
     "execution_count": 10,
     "metadata": {},
     "output_type": "execute_result"
    }
   ],
   "source": [
    "results_experiments"
   ]
  },
  {
   "cell_type": "code",
   "execution_count": 15,
   "metadata": {},
   "outputs": [],
   "source": [
    "results_experiments.to_csv(path_to_save + name_common_file)\n",
    "# '/data/results/Brazil/stocks_20'\n",
    "# /data/results/Brazil/stocks_20"
   ]
  },
  {
   "cell_type": "markdown",
   "metadata": {},
   "source": [
    "# Saving data in the required form"
   ]
  },
  {
   "cell_type": "code",
   "execution_count": 16,
   "metadata": {},
   "outputs": [],
   "source": [
    "def convert_table(data: pd.DataFrame, path: pathlib.Path, base_name_file: str) -> None:\n",
    "    clustering_order = PARAMS_NAME['clustering_method']\n",
    "    \n",
    "    for multi_distribution in PARAMS_NAME['multivariate_distribution']:\n",
    "        for corr_network in PARAMS_NAME['correlation_network']:\n",
    "            for size_samples in PARAMS_NAME['sample_size_of_observations']:\n",
    "                \n",
    "                filtered_data = data[(data['correlation_network'] == corr_network) & \n",
    "                                     (data['multivariate_distribution'] == multi_distribution) & \n",
    "                                     (data['sample_size_of_observations'] == size_samples)]\n",
    "\n",
    "                if filtered_data.empty:\n",
    "                    continue\n",
    "\n",
    "                filtered_data = filtered_data[filtered_data['clustering_method'].isin(clustering_order)]\n",
    "                \n",
    "                filtered_data['clustering_method'] = pd.Categorical(\n",
    "                    filtered_data['clustering_method'], \n",
    "                    categories=clustering_order, \n",
    "                    ordered=True\n",
    "                )\n",
    "\n",
    "                result = pd.pivot_table(\n",
    "                    filtered_data, \n",
    "                    values='ARI', \n",
    "                    index='clustering_method', \n",
    "                    columns='number_clusters', \n",
    "                    aggfunc='first',\n",
    "                    sort=False ,\n",
    "                    observed=False\n",
    "                )\n",
    "\n",
    "                file_name = f'{base_name_file}_{multi_distribution}_{corr_network}_{size_samples}.csv'\n",
    "                result.to_csv(path + file_name)\n"
   ]
  },
  {
   "cell_type": "code",
   "execution_count": 17,
   "metadata": {},
   "outputs": [],
   "source": [
    "# name_specific_files = 'SP100_1618_60_stocks'\n",
    "df = pd.read_csv(path_to_save + name_common_file)\n",
    "convert_table(data = df, path = path_to_save, base_name_file = name_specific_files)"
   ]
  },
  {
   "cell_type": "code",
   "execution_count": 14,
   "metadata": {},
   "outputs": [],
   "source": [
    "# ПЕРЕИМЕНОВАТЬ ФАЙЛЫ\n",
    "\n"
   ]
  },
  {
   "cell_type": "markdown",
   "metadata": {},
   "source": [
    "# Correlation block model\n"
   ]
  },
  {
   "cell_type": "code",
   "execution_count": 28,
   "metadata": {},
   "outputs": [],
   "source": [
    "def one_experiment_cbm(\n",
    "      cluster_method,\n",
    "      correlation_method,\n",
    "      multivariate_distribution,\n",
    "      number_clusters,\n",
    "      sample_size_of_observations,\n",
    "      true_cov_matrix,\n",
    "      true_mean_vec,\n",
    "      true_labels\n",
    ") -> float:\n",
    "   \n",
    "   artificial_cluster_structure = ArtificialСlusterStructure()\n",
    "   gen_labels_ = artificial_cluster_structure.clustering(\n",
    "      multivariate_distribution = multivariate_distribution,\n",
    "      mean_vector = true_mean_vec,\n",
    "      cov_matrix = true_cov_matrix,\n",
    "      sample_size_of_observations = sample_size_of_observations,\n",
    "      correlation_method = correlation_method,\n",
    "      clustering_method = cluster_method,\n",
    "      number_clusters = number_clusters\n",
    "   )\n",
    "\n",
    "   return adjusted_rand_score(true_labels, gen_labels_)\n",
    "    "
   ]
  },
  {
   "cell_type": "code",
   "execution_count": 3,
   "metadata": {},
   "outputs": [
    {
     "name": "stdout",
     "output_type": "stream",
     "text": [
      "Total number of combinations: 216\n",
      "Total number of name combinations: 216\n"
     ]
    }
   ],
   "source": [
    "# Создание всех возможных комбинаций параметров\n",
    "keys, values = zip(*PARAMS.items())\n",
    "combinations = [dict(zip(keys, combination)) for combination in itertools.product(*values)]\n",
    "\n",
    "keys_name, values_name = zip(*PARAMS_NAME.items())\n",
    "combinations_name = [dict(zip(keys_name, combination)) for combination in itertools.product(*values_name)]\n",
    "print(f'Total number of combinations: {len(combinations)}')\n",
    "print(f'Total number of name combinations: {len(combinations_name)}')"
   ]
  },
  {
   "cell_type": "code",
   "execution_count": 29,
   "metadata": {},
   "outputs": [
    {
     "name": "stderr",
     "output_type": "stream",
     "text": [
      "0it [00:00, ?it/s]"
     ]
    },
    {
     "name": "stdout",
     "output_type": "stream",
     "text": [
      "======= {'clustering_method': 'normalized_spectral_clustering', 'correlation_network': 'Pearson', 'multivariate_distribution': 'normal_distribution', 'number_clusters': 2, 'sample_size_of_observations': 10, 'ARI': np.float64(0.5584574750874587)}\n"
     ]
    },
    {
     "name": "stderr",
     "output_type": "stream",
     "text": [
      "1it [01:49, 109.84s/it]"
     ]
    },
    {
     "name": "stdout",
     "output_type": "stream",
     "text": [
      "======= {'clustering_method': 'normalized_spectral_clustering', 'correlation_network': 'Pearson', 'multivariate_distribution': 'normal_distribution', 'number_clusters': 2, 'sample_size_of_observations': 20, 'ARI': np.float64(0.8583797615009413)}\n"
     ]
    },
    {
     "name": "stderr",
     "output_type": "stream",
     "text": [
      "                       \r"
     ]
    },
    {
     "ename": "KeyboardInterrupt",
     "evalue": "",
     "output_type": "error",
     "traceback": [
      "\u001b[0;31m---------------------------------------------------------------------------\u001b[0m",
      "\u001b[0;31mKeyboardInterrupt\u001b[0m                         Traceback (most recent call last)",
      "Cell \u001b[0;32mIn[29], line 18\u001b[0m\n\u001b[1;32m     15\u001b[0m ari_score_results \u001b[38;5;241m=\u001b[39m []\n\u001b[1;32m     17\u001b[0m \u001b[38;5;28;01mfor\u001b[39;00m count \u001b[38;5;129;01min\u001b[39;00m \u001b[38;5;28mrange\u001b[39m(number_repetitions):\n\u001b[0;32m---> 18\u001b[0m     result_score \u001b[38;5;241m=\u001b[39m \u001b[43mone_experiment_cbm\u001b[49m\u001b[43m(\u001b[49m\n\u001b[1;32m     19\u001b[0m \u001b[43m        \u001b[49m\u001b[43mcluster_method\u001b[49m\u001b[43m \u001b[49m\u001b[38;5;241;43m=\u001b[39;49m\u001b[43m \u001b[49m\u001b[43mcombination\u001b[49m\u001b[43m[\u001b[49m\u001b[38;5;124;43m'\u001b[39;49m\u001b[38;5;124;43mclustering_method\u001b[39;49m\u001b[38;5;124;43m'\u001b[39;49m\u001b[43m]\u001b[49m\u001b[43m,\u001b[49m\n\u001b[1;32m     20\u001b[0m \u001b[43m        \u001b[49m\u001b[43mcorrelation_method\u001b[49m\u001b[43m \u001b[49m\u001b[38;5;241;43m=\u001b[39;49m\u001b[43m \u001b[49m\u001b[43mcombination\u001b[49m\u001b[43m[\u001b[49m\u001b[38;5;124;43m'\u001b[39;49m\u001b[38;5;124;43mcorrelation_network\u001b[39;49m\u001b[38;5;124;43m'\u001b[39;49m\u001b[43m]\u001b[49m\u001b[43m,\u001b[49m\n\u001b[1;32m     21\u001b[0m \u001b[43m        \u001b[49m\u001b[43mmultivariate_distribution\u001b[49m\u001b[43m \u001b[49m\u001b[38;5;241;43m=\u001b[39;49m\u001b[43m \u001b[49m\u001b[43mcombination\u001b[49m\u001b[43m[\u001b[49m\u001b[38;5;124;43m'\u001b[39;49m\u001b[38;5;124;43mmultivariate_distribution\u001b[39;49m\u001b[38;5;124;43m'\u001b[39;49m\u001b[43m]\u001b[49m\u001b[43m,\u001b[49m\n\u001b[1;32m     22\u001b[0m \u001b[43m        \u001b[49m\u001b[43mnumber_clusters\u001b[49m\u001b[43m \u001b[49m\u001b[38;5;241;43m=\u001b[39;49m\u001b[43m \u001b[49m\u001b[43mcombination\u001b[49m\u001b[43m[\u001b[49m\u001b[38;5;124;43m'\u001b[39;49m\u001b[38;5;124;43mnumber_clusters\u001b[39;49m\u001b[38;5;124;43m'\u001b[39;49m\u001b[43m]\u001b[49m\u001b[43m,\u001b[49m\n\u001b[1;32m     23\u001b[0m \u001b[43m        \u001b[49m\u001b[43msample_size_of_observations\u001b[49m\u001b[43m \u001b[49m\u001b[38;5;241;43m=\u001b[39;49m\u001b[43m \u001b[49m\u001b[43mcombination\u001b[49m\u001b[43m[\u001b[49m\u001b[38;5;124;43m'\u001b[39;49m\u001b[38;5;124;43msample_size_of_observations\u001b[39;49m\u001b[38;5;124;43m'\u001b[39;49m\u001b[43m]\u001b[49m\u001b[43m,\u001b[49m\n\u001b[1;32m     24\u001b[0m \u001b[43m        \u001b[49m\u001b[43mtrue_cov_matrix\u001b[49m\u001b[43m \u001b[49m\u001b[38;5;241;43m=\u001b[39;49m\u001b[43m \u001b[49m\u001b[43mcbm\u001b[49m\u001b[43m[\u001b[49m\u001b[38;5;124;43m'\u001b[39;49m\u001b[38;5;124;43mcovariance_matrix\u001b[39;49m\u001b[38;5;124;43m'\u001b[39;49m\u001b[43m]\u001b[49m\u001b[43m,\u001b[49m\n\u001b[1;32m     25\u001b[0m \u001b[43m        \u001b[49m\u001b[43mtrue_mean_vec\u001b[49m\u001b[43m \u001b[49m\u001b[38;5;241;43m=\u001b[39;49m\u001b[43m \u001b[49m\u001b[43mcbm\u001b[49m\u001b[43m[\u001b[49m\u001b[38;5;124;43m'\u001b[39;49m\u001b[38;5;124;43mmean_vector\u001b[39;49m\u001b[38;5;124;43m'\u001b[39;49m\u001b[43m]\u001b[49m\u001b[43m,\u001b[49m\n\u001b[1;32m     26\u001b[0m \u001b[43m        \u001b[49m\u001b[43mtrue_labels\u001b[49m\u001b[43m \u001b[49m\u001b[38;5;241;43m=\u001b[39;49m\u001b[43m \u001b[49m\u001b[43mcbm\u001b[49m\u001b[43m[\u001b[49m\u001b[38;5;124;43m'\u001b[39;49m\u001b[38;5;124;43mlabels\u001b[39;49m\u001b[38;5;124;43m'\u001b[39;49m\u001b[43m]\u001b[49m\n\u001b[1;32m     27\u001b[0m \u001b[43m    \u001b[49m\u001b[43m)\u001b[49m\n\u001b[1;32m     28\u001b[0m     ari_score_results\u001b[38;5;241m.\u001b[39mappend(result_score)\n\u001b[1;32m     29\u001b[0m combination_name[\u001b[38;5;124m'\u001b[39m\u001b[38;5;124mARI\u001b[39m\u001b[38;5;124m'\u001b[39m] \u001b[38;5;241m=\u001b[39m np\u001b[38;5;241m.\u001b[39mmean(ari_score_results)\n",
      "Cell \u001b[0;32mIn[28], line 13\u001b[0m, in \u001b[0;36mone_experiment_cbm\u001b[0;34m(cluster_method, correlation_method, multivariate_distribution, number_clusters, sample_size_of_observations, true_cov_matrix, true_mean_vec, true_labels)\u001b[0m\n\u001b[1;32m      1\u001b[0m \u001b[38;5;28;01mdef\u001b[39;00m \u001b[38;5;21mone_experiment_cbm\u001b[39m(\n\u001b[1;32m      2\u001b[0m       cluster_method,\n\u001b[1;32m      3\u001b[0m       correlation_method,\n\u001b[0;32m   (...)\u001b[0m\n\u001b[1;32m      9\u001b[0m       true_labels\n\u001b[1;32m     10\u001b[0m ) \u001b[38;5;241m-\u001b[39m\u001b[38;5;241m>\u001b[39m \u001b[38;5;28mfloat\u001b[39m:\n\u001b[1;32m     12\u001b[0m    artificial_cluster_structure \u001b[38;5;241m=\u001b[39m ArtificialСlusterStructure()\n\u001b[0;32m---> 13\u001b[0m    gen_labels_ \u001b[38;5;241m=\u001b[39m \u001b[43martificial_cluster_structure\u001b[49m\u001b[38;5;241;43m.\u001b[39;49m\u001b[43mclustering\u001b[49m\u001b[43m(\u001b[49m\n\u001b[1;32m     14\u001b[0m \u001b[43m      \u001b[49m\u001b[43mmultivariate_distribution\u001b[49m\u001b[43m \u001b[49m\u001b[38;5;241;43m=\u001b[39;49m\u001b[43m \u001b[49m\u001b[43mmultivariate_distribution\u001b[49m\u001b[43m,\u001b[49m\n\u001b[1;32m     15\u001b[0m \u001b[43m      \u001b[49m\u001b[43mmean_vector\u001b[49m\u001b[43m \u001b[49m\u001b[38;5;241;43m=\u001b[39;49m\u001b[43m \u001b[49m\u001b[43mtrue_mean_vec\u001b[49m\u001b[43m,\u001b[49m\n\u001b[1;32m     16\u001b[0m \u001b[43m      \u001b[49m\u001b[43mcov_matrix\u001b[49m\u001b[43m \u001b[49m\u001b[38;5;241;43m=\u001b[39;49m\u001b[43m \u001b[49m\u001b[43mtrue_cov_matrix\u001b[49m\u001b[43m,\u001b[49m\n\u001b[1;32m     17\u001b[0m \u001b[43m      \u001b[49m\u001b[43msample_size_of_observations\u001b[49m\u001b[43m \u001b[49m\u001b[38;5;241;43m=\u001b[39;49m\u001b[43m \u001b[49m\u001b[43msample_size_of_observations\u001b[49m\u001b[43m,\u001b[49m\n\u001b[1;32m     18\u001b[0m \u001b[43m      \u001b[49m\u001b[43mcorrelation_method\u001b[49m\u001b[43m \u001b[49m\u001b[38;5;241;43m=\u001b[39;49m\u001b[43m \u001b[49m\u001b[43mcorrelation_method\u001b[49m\u001b[43m,\u001b[49m\n\u001b[1;32m     19\u001b[0m \u001b[43m      \u001b[49m\u001b[43mclustering_method\u001b[49m\u001b[43m \u001b[49m\u001b[38;5;241;43m=\u001b[39;49m\u001b[43m \u001b[49m\u001b[43mcluster_method\u001b[49m\u001b[43m,\u001b[49m\n\u001b[1;32m     20\u001b[0m \u001b[43m      \u001b[49m\u001b[43mnumber_clusters\u001b[49m\u001b[43m \u001b[49m\u001b[38;5;241;43m=\u001b[39;49m\u001b[43m \u001b[49m\u001b[43mnumber_clusters\u001b[49m\n\u001b[1;32m     21\u001b[0m \u001b[43m   \u001b[49m\u001b[43m)\u001b[49m\n\u001b[1;32m     23\u001b[0m    \u001b[38;5;28;01mreturn\u001b[39;00m adjusted_rand_score(true_labels, gen_labels_)\n",
      "File \u001b[0;32m~/Documents/ЛАТАС/code/src/artificial_cluster_structure.py:61\u001b[0m, in \u001b[0;36mclustering\u001b[0;34m(self, multivariate_distribution, mean_vector, cov_matrix, sample_size_of_observations, correlation_method, clustering_method, number_clusters)\u001b[0m\n\u001b[1;32m     50\u001b[0m \u001b[38;5;28;01mdef\u001b[39;00m \u001b[38;5;21mclustering\u001b[39m(\n\u001b[1;32m     51\u001b[0m         \u001b[38;5;28mself\u001b[39m,\n\u001b[1;32m     52\u001b[0m         multivariate_distribution: MultivariateDistribution,\n\u001b[0;32m   (...)\u001b[0m\n\u001b[1;32m     58\u001b[0m         number_clusters: \u001b[38;5;28mint\u001b[39m\n\u001b[1;32m     59\u001b[0m ) \u001b[38;5;241m-\u001b[39m\u001b[38;5;241m>\u001b[39m np\u001b[38;5;241m.\u001b[39marray:\n\u001b[0;32m---> 61\u001b[0m     observations_random_variables \u001b[38;5;241m=\u001b[39m \u001b[38;5;28mself\u001b[39m\u001b[38;5;241m.\u001b[39m_generated_data(\n\u001b[1;32m     62\u001b[0m         multivariate_distribution \u001b[38;5;241m=\u001b[39m multivariate_distribution,\n\u001b[1;32m     63\u001b[0m         mean_vector \u001b[38;5;241m=\u001b[39m mean_vector,\n\u001b[1;32m     64\u001b[0m         cov_matrix \u001b[38;5;241m=\u001b[39m cov_matrix,\n\u001b[1;32m     65\u001b[0m         sample_size_of_observations \u001b[38;5;241m=\u001b[39m sample_size_of_observations\n\u001b[1;32m     66\u001b[0m     )\n\u001b[1;32m     67\u001b[0m     correlation_estimation \u001b[38;5;241m=\u001b[39m \u001b[38;5;28mself\u001b[39m\u001b[38;5;241m.\u001b[39m_correlation_estimation(\n\u001b[1;32m     68\u001b[0m         observations_random_variables \u001b[38;5;241m=\u001b[39m observations_random_variables,\n\u001b[1;32m     69\u001b[0m         correlation_method \u001b[38;5;241m=\u001b[39m correlation_method\n\u001b[1;32m     70\u001b[0m     )\n\u001b[1;32m     72\u001b[0m     \u001b[38;5;28;01mreturn\u001b[39;00m \u001b[38;5;28mself\u001b[39m\u001b[38;5;241m.\u001b[39m_clustering(\n\u001b[1;32m     73\u001b[0m         correlation_estimation \u001b[38;5;241m=\u001b[39m correlation_estimation,\n\u001b[1;32m     74\u001b[0m         clustering_method \u001b[38;5;241m=\u001b[39m clustering_method,\n\u001b[1;32m     75\u001b[0m         number_clusters \u001b[38;5;241m=\u001b[39m number_clusters)\n",
      "File \u001b[0;32m~/Documents/ЛАТАС/code/src/artificial_cluster_structure.py:35\u001b[0m, in \u001b[0;36m_correlation_estimation\u001b[0;34m(self, observations_random_variables, correlation_method)\u001b[0m\n\u001b[1;32m     29\u001b[0m \u001b[38;5;28;01mdef\u001b[39;00m \u001b[38;5;21m_correlation_estimation\u001b[39m(\n\u001b[1;32m     30\u001b[0m         \u001b[38;5;28mself\u001b[39m,\n\u001b[1;32m     31\u001b[0m         observations_random_variables: np\u001b[38;5;241m.\u001b[39marray,\n\u001b[1;32m     32\u001b[0m         correlation_method: CorrelationMeasurement\n\u001b[1;32m     33\u001b[0m ) \u001b[38;5;241m-\u001b[39m\u001b[38;5;241m>\u001b[39m np\u001b[38;5;241m.\u001b[39marray:\n\u001b[1;32m     34\u001b[0m     correlation_matrix \u001b[38;5;241m=\u001b[39m []\n\u001b[0;32m---> 35\u001b[0m     \u001b[38;5;28;01mfor\u001b[39;00m observation_random_variable_1 \u001b[38;5;129;01min\u001b[39;00m observations_random_variables:\n\u001b[1;32m     36\u001b[0m         row \u001b[38;5;241m=\u001b[39m []\n\u001b[1;32m     37\u001b[0m         \u001b[38;5;28;01mfor\u001b[39;00m observation_random_variable_2 \u001b[38;5;129;01min\u001b[39;00m observations_random_variables:\n",
      "File \u001b[0;32m~/Documents/ЛАТАС/code/src/correlation.py:43\u001b[0m, in \u001b[0;36mCorrelationMeasurement.Pearson\u001b[0;34m(self, data_1, data_2)\u001b[0m\n\u001b[1;32m     23\u001b[0m \u001b[38;5;28;01mdef\u001b[39;00m \u001b[38;5;21mPearson\u001b[39m(\u001b[38;5;28mself\u001b[39m, data_1: np\u001b[38;5;241m.\u001b[39marray, data_2: np\u001b[38;5;241m.\u001b[39marray) \u001b[38;5;241m-\u001b[39m\u001b[38;5;241m>\u001b[39m \u001b[38;5;28mfloat\u001b[39m:\n\u001b[1;32m     24\u001b[0m \u001b[38;5;250m    \u001b[39m\u001b[38;5;124;03m\"\"\"\u001b[39;00m\n\u001b[1;32m     25\u001b[0m \u001b[38;5;124;03m    Calculates the absolute value of Pearson correlation coefficient for two data sets.\u001b[39;00m\n\u001b[1;32m     26\u001b[0m \n\u001b[0;32m   (...)\u001b[0m\n\u001b[1;32m     41\u001b[0m \u001b[38;5;124;03m        The absolute value of Pearson correlation coefficient.\u001b[39;00m\n\u001b[1;32m     42\u001b[0m \u001b[38;5;124;03m    \"\"\"\u001b[39;00m\n\u001b[0;32m---> 43\u001b[0m     \u001b[38;5;28;01mreturn\u001b[39;00m \u001b[38;5;28mabs\u001b[39m(\u001b[43mstats\u001b[49m\u001b[38;5;241;43m.\u001b[39;49m\u001b[43mpearsonr\u001b[49m\u001b[43m(\u001b[49m\u001b[43mdata_1\u001b[49m\u001b[43m,\u001b[49m\u001b[43m \u001b[49m\u001b[43mdata_2\u001b[49m\u001b[43m)\u001b[49m\u001b[38;5;241m.\u001b[39mstatistic)\n",
      "File \u001b[0;32m~/Documents/ЛАТАС/code/venv/lib/python3.11/site-packages/scipy/stats/_stats_py.py:4902\u001b[0m, in \u001b[0;36mpearsonr\u001b[0;34m(x, y, alternative, method, axis)\u001b[0m\n\u001b[1;32m   4896\u001b[0m \u001b[38;5;66;03m# scipy.linalg.norm(xm) avoids premature overflow when xm is e.g.\u001b[39;00m\n\u001b[1;32m   4897\u001b[0m \u001b[38;5;66;03m# [-5e210, 5e210, 3e200, -3e200]\u001b[39;00m\n\u001b[1;32m   4898\u001b[0m \u001b[38;5;66;03m# but not when `axis` is provided, so scale manually. scipy.linalg.norm\u001b[39;00m\n\u001b[1;32m   4899\u001b[0m \u001b[38;5;66;03m# also raises an error with NaN input rather than returning NaN, so\u001b[39;00m\n\u001b[1;32m   4900\u001b[0m \u001b[38;5;66;03m# use np.linalg.norm.\u001b[39;00m\n\u001b[1;32m   4901\u001b[0m xmax \u001b[38;5;241m=\u001b[39m xp\u001b[38;5;241m.\u001b[39mmax(xp\u001b[38;5;241m.\u001b[39mabs(xm), axis\u001b[38;5;241m=\u001b[39maxis, keepdims\u001b[38;5;241m=\u001b[39m\u001b[38;5;28;01mTrue\u001b[39;00m)\n\u001b[0;32m-> 4902\u001b[0m ymax \u001b[38;5;241m=\u001b[39m \u001b[43mxp\u001b[49m\u001b[38;5;241;43m.\u001b[39;49m\u001b[43mmax\u001b[49m\u001b[43m(\u001b[49m\u001b[43mxp\u001b[49m\u001b[38;5;241;43m.\u001b[39;49m\u001b[43mabs\u001b[49m\u001b[43m(\u001b[49m\u001b[43mym\u001b[49m\u001b[43m)\u001b[49m\u001b[43m,\u001b[49m\u001b[43m \u001b[49m\u001b[43maxis\u001b[49m\u001b[38;5;241;43m=\u001b[39;49m\u001b[43maxis\u001b[49m\u001b[43m,\u001b[49m\u001b[43m \u001b[49m\u001b[43mkeepdims\u001b[49m\u001b[38;5;241;43m=\u001b[39;49m\u001b[38;5;28;43;01mTrue\u001b[39;49;00m\u001b[43m)\u001b[49m\n\u001b[1;32m   4903\u001b[0m \u001b[38;5;28;01mwith\u001b[39;00m np\u001b[38;5;241m.\u001b[39merrstate(invalid\u001b[38;5;241m=\u001b[39m\u001b[38;5;124m'\u001b[39m\u001b[38;5;124mignore\u001b[39m\u001b[38;5;124m'\u001b[39m):\n\u001b[1;32m   4904\u001b[0m     normxm \u001b[38;5;241m=\u001b[39m xmax \u001b[38;5;241m*\u001b[39m xp\u001b[38;5;241m.\u001b[39mlinalg\u001b[38;5;241m.\u001b[39mvector_norm(xm\u001b[38;5;241m/\u001b[39mxmax, axis\u001b[38;5;241m=\u001b[39maxis, keepdims\u001b[38;5;241m=\u001b[39m\u001b[38;5;28;01mTrue\u001b[39;00m)\n",
      "File \u001b[0;32m~/Documents/ЛАТАС/code/venv/lib/python3.11/site-packages/numpy/_core/fromnumeric.py:3199\u001b[0m, in \u001b[0;36mmax\u001b[0;34m(a, axis, out, keepdims, initial, where)\u001b[0m\n\u001b[1;32m   3080\u001b[0m \u001b[38;5;129m@array_function_dispatch\u001b[39m(_max_dispatcher)\n\u001b[1;32m   3081\u001b[0m \u001b[38;5;129m@set_module\u001b[39m(\u001b[38;5;124m'\u001b[39m\u001b[38;5;124mnumpy\u001b[39m\u001b[38;5;124m'\u001b[39m)\n\u001b[1;32m   3082\u001b[0m \u001b[38;5;28;01mdef\u001b[39;00m \u001b[38;5;21mmax\u001b[39m(a, axis\u001b[38;5;241m=\u001b[39m\u001b[38;5;28;01mNone\u001b[39;00m, out\u001b[38;5;241m=\u001b[39m\u001b[38;5;28;01mNone\u001b[39;00m, keepdims\u001b[38;5;241m=\u001b[39mnp\u001b[38;5;241m.\u001b[39m_NoValue, initial\u001b[38;5;241m=\u001b[39mnp\u001b[38;5;241m.\u001b[39m_NoValue,\n\u001b[1;32m   3083\u001b[0m          where\u001b[38;5;241m=\u001b[39mnp\u001b[38;5;241m.\u001b[39m_NoValue):\n\u001b[1;32m   3084\u001b[0m \u001b[38;5;250m    \u001b[39m\u001b[38;5;124;03m\"\"\"\u001b[39;00m\n\u001b[1;32m   3085\u001b[0m \u001b[38;5;124;03m    Return the maximum of an array or maximum along an axis.\u001b[39;00m\n\u001b[1;32m   3086\u001b[0m \n\u001b[0;32m   (...)\u001b[0m\n\u001b[1;32m   3197\u001b[0m \u001b[38;5;124;03m    5\u001b[39;00m\n\u001b[1;32m   3198\u001b[0m \u001b[38;5;124;03m    \"\"\"\u001b[39;00m\n\u001b[0;32m-> 3199\u001b[0m     \u001b[38;5;28;01mreturn\u001b[39;00m \u001b[43m_wrapreduction\u001b[49m\u001b[43m(\u001b[49m\u001b[43ma\u001b[49m\u001b[43m,\u001b[49m\u001b[43m \u001b[49m\u001b[43mnp\u001b[49m\u001b[38;5;241;43m.\u001b[39;49m\u001b[43mmaximum\u001b[49m\u001b[43m,\u001b[49m\u001b[43m \u001b[49m\u001b[38;5;124;43m'\u001b[39;49m\u001b[38;5;124;43mmax\u001b[39;49m\u001b[38;5;124;43m'\u001b[39;49m\u001b[43m,\u001b[49m\u001b[43m \u001b[49m\u001b[43maxis\u001b[49m\u001b[43m,\u001b[49m\u001b[43m \u001b[49m\u001b[38;5;28;43;01mNone\u001b[39;49;00m\u001b[43m,\u001b[49m\u001b[43m \u001b[49m\u001b[43mout\u001b[49m\u001b[43m,\u001b[49m\n\u001b[1;32m   3200\u001b[0m \u001b[43m                          \u001b[49m\u001b[43mkeepdims\u001b[49m\u001b[38;5;241;43m=\u001b[39;49m\u001b[43mkeepdims\u001b[49m\u001b[43m,\u001b[49m\u001b[43m \u001b[49m\u001b[43minitial\u001b[49m\u001b[38;5;241;43m=\u001b[39;49m\u001b[43minitial\u001b[49m\u001b[43m,\u001b[49m\u001b[43m \u001b[49m\u001b[43mwhere\u001b[49m\u001b[38;5;241;43m=\u001b[39;49m\u001b[43mwhere\u001b[49m\u001b[43m)\u001b[49m\n",
      "File \u001b[0;32m~/Documents/ЛАТАС/code/venv/lib/python3.11/site-packages/numpy/_core/fromnumeric.py:70\u001b[0m, in \u001b[0;36m_wrapreduction\u001b[0;34m(obj, ufunc, method, axis, dtype, out, **kwargs)\u001b[0m\n\u001b[1;32m     69\u001b[0m \u001b[38;5;28;01mdef\u001b[39;00m \u001b[38;5;21m_wrapreduction\u001b[39m(obj, ufunc, method, axis, dtype, out, \u001b[38;5;241m*\u001b[39m\u001b[38;5;241m*\u001b[39mkwargs):\n\u001b[0;32m---> 70\u001b[0m     passkwargs \u001b[38;5;241m=\u001b[39m \u001b[43m{\u001b[49m\u001b[43mk\u001b[49m\u001b[43m:\u001b[49m\u001b[43m \u001b[49m\u001b[43mv\u001b[49m\u001b[43m \u001b[49m\u001b[38;5;28;43;01mfor\u001b[39;49;00m\u001b[43m \u001b[49m\u001b[43mk\u001b[49m\u001b[43m,\u001b[49m\u001b[43m \u001b[49m\u001b[43mv\u001b[49m\u001b[43m \u001b[49m\u001b[38;5;129;43;01min\u001b[39;49;00m\u001b[43m \u001b[49m\u001b[43mkwargs\u001b[49m\u001b[38;5;241;43m.\u001b[39;49m\u001b[43mitems\u001b[49m\u001b[43m(\u001b[49m\u001b[43m)\u001b[49m\n\u001b[1;32m     71\u001b[0m \u001b[43m                  \u001b[49m\u001b[38;5;28;43;01mif\u001b[39;49;00m\u001b[43m \u001b[49m\u001b[43mv\u001b[49m\u001b[43m \u001b[49m\u001b[38;5;129;43;01mis\u001b[39;49;00m\u001b[43m \u001b[49m\u001b[38;5;129;43;01mnot\u001b[39;49;00m\u001b[43m \u001b[49m\u001b[43mnp\u001b[49m\u001b[38;5;241;43m.\u001b[39;49m\u001b[43m_NoValue\u001b[49m\u001b[43m}\u001b[49m\n\u001b[1;32m     73\u001b[0m     \u001b[38;5;28;01mif\u001b[39;00m \u001b[38;5;28mtype\u001b[39m(obj) \u001b[38;5;129;01mis\u001b[39;00m \u001b[38;5;129;01mnot\u001b[39;00m mu\u001b[38;5;241m.\u001b[39mndarray:\n\u001b[1;32m     74\u001b[0m         \u001b[38;5;28;01mtry\u001b[39;00m:\n",
      "File \u001b[0;32m~/Documents/ЛАТАС/code/venv/lib/python3.11/site-packages/numpy/_core/fromnumeric.py:71\u001b[0m, in \u001b[0;36m<dictcomp>\u001b[0;34m(.0)\u001b[0m\n\u001b[1;32m     69\u001b[0m \u001b[38;5;28;01mdef\u001b[39;00m \u001b[38;5;21m_wrapreduction\u001b[39m(obj, ufunc, method, axis, dtype, out, \u001b[38;5;241m*\u001b[39m\u001b[38;5;241m*\u001b[39mkwargs):\n\u001b[1;32m     70\u001b[0m     passkwargs \u001b[38;5;241m=\u001b[39m {k: v \u001b[38;5;28;01mfor\u001b[39;00m k, v \u001b[38;5;129;01min\u001b[39;00m kwargs\u001b[38;5;241m.\u001b[39mitems()\n\u001b[0;32m---> 71\u001b[0m                   \u001b[38;5;28;01mif\u001b[39;00m v \u001b[38;5;129;01mis\u001b[39;00m \u001b[38;5;129;01mnot\u001b[39;00m np\u001b[38;5;241m.\u001b[39m_NoValue}\n\u001b[1;32m     73\u001b[0m     \u001b[38;5;28;01mif\u001b[39;00m \u001b[38;5;28mtype\u001b[39m(obj) \u001b[38;5;129;01mis\u001b[39;00m \u001b[38;5;129;01mnot\u001b[39;00m mu\u001b[38;5;241m.\u001b[39mndarray:\n\u001b[1;32m     74\u001b[0m         \u001b[38;5;28;01mtry\u001b[39;00m:\n",
      "\u001b[0;31mKeyboardInterrupt\u001b[0m: "
     ]
    }
   ],
   "source": [
    "results_experiments = pd.DataFrame()\n",
    "number_repetitions = 100\n",
    "number_vertices = 60\n",
    "\n",
    "for combination, combination_name in tqdm(zip(combinations, combinations_name), leave=False):\n",
    "    print('=======', combination_name)\n",
    "    \n",
    "    cbm = CorrelationBlockModel(\n",
    "        num_clusters = combination['number_clusters'],\n",
    "        size_cluster = int(number_vertices / combination['number_clusters']),\n",
    "        r_in = 0.8,\n",
    "        r_out = 0.1\n",
    "    )\n",
    "    cbm = cbm.create_correlation_block_model()\n",
    "    ari_score_results = []\n",
    "\n",
    "    for count in range(number_repetitions):\n",
    "        result_score = one_experiment_cbm(\n",
    "            cluster_method = combination['clustering_method'],\n",
    "            correlation_method = combination['correlation_network'],\n",
    "            multivariate_distribution = combination['multivariate_distribution'],\n",
    "            number_clusters = combination['number_clusters'],\n",
    "            sample_size_of_observations = combination['sample_size_of_observations'],\n",
    "            true_cov_matrix = cbm['covariance_matrix'],\n",
    "            true_mean_vec = cbm['mean_vector'],\n",
    "            true_labels = cbm['labels']\n",
    "        )\n",
    "        ari_score_results.append(result_score)\n",
    "    combination_name['ARI'] = np.mean(ari_score_results)\n",
    "    results_experiments = results_experiments._append(pd.Series(combination_name), ignore_index=True)\n",
    "        "
   ]
  },
  {
   "cell_type": "code",
   "execution_count": null,
   "metadata": {},
   "outputs": [],
   "source": []
  },
  {
   "cell_type": "code",
   "execution_count": null,
   "metadata": {},
   "outputs": [],
   "source": []
  }
 ],
 "metadata": {
  "kernelspec": {
   "display_name": "venv",
   "language": "python",
   "name": "python3"
  },
  "language_info": {
   "codemirror_mode": {
    "name": "ipython",
    "version": 3
   },
   "file_extension": ".py",
   "mimetype": "text/x-python",
   "name": "python",
   "nbconvert_exporter": "python",
   "pygments_lexer": "ipython3",
   "version": "3.11.10"
  }
 },
 "nbformat": 4,
 "nbformat_minor": 2
}
